{
 "cells": [
  {
   "metadata": {},
   "cell_type": "markdown",
   "source": "### Instalando a biblioteca Pyspark e Findspark",
   "id": "1b67becb5a0c44ea"
  },
  {
   "metadata": {
    "ExecuteTime": {
     "end_time": "2025-02-16T17:00:29.485387Z",
     "start_time": "2025-02-16T17:00:29.474387Z"
    }
   },
   "cell_type": "code",
   "source": "#!pip install pyspark",
   "id": "d7309a12efce770c",
   "outputs": [],
   "execution_count": 21
  },
  {
   "metadata": {
    "ExecuteTime": {
     "end_time": "2025-02-16T17:00:29.507074Z",
     "start_time": "2025-02-16T17:00:29.502072Z"
    }
   },
   "cell_type": "code",
   "source": "g#!pip install findspark",
   "id": "7d22a60b6a115225",
   "outputs": [],
   "execution_count": 22
  },
  {
   "metadata": {},
   "cell_type": "markdown",
   "source": "### Importando Pyspark - iniciando FindSpark",
   "id": "582a2fcbd9196d77"
  },
  {
   "metadata": {
    "ExecuteTime": {
     "end_time": "2025-02-16T17:00:29.531826Z",
     "start_time": "2025-02-16T17:00:29.518589Z"
    }
   },
   "cell_type": "code",
   "source": [
    "import findspark\n",
    "findspark.init()\n",
    "from pyspark.sql import SparkSession\n",
    "spark = SparkSession.builder.master(\"local[*]\").getOrCreate()"
   ],
   "id": "b85e2829b867a7a0",
   "outputs": [],
   "execution_count": 23
  },
  {
   "metadata": {
    "ExecuteTime": {
     "end_time": "2025-02-16T17:00:29.637052Z",
     "start_time": "2025-02-16T17:00:29.544715Z"
    }
   },
   "cell_type": "code",
   "source": [
    "df = spark.sql(\"\"\"select 'sucesso total estamos online!' as hello\"\"\")\n",
    "df.show()"
   ],
   "id": "1e70f7349a18af72",
   "outputs": [
    {
     "name": "stdout",
     "output_type": "stream",
     "text": [
      "+--------------------+\n",
      "|               hello|\n",
      "+--------------------+\n",
      "|sucesso total est...|\n",
      "+--------------------+\n",
      "\n"
     ]
    }
   ],
   "execution_count": 24
  },
  {
   "metadata": {},
   "cell_type": "markdown",
   "source": "### Importando funções especitficas para tratamento de dados",
   "id": "3055bd72808a8db8"
  },
  {
   "metadata": {
    "ExecuteTime": {
     "end_time": "2025-02-16T17:00:29.671162Z",
     "start_time": "2025-02-16T17:00:29.661162Z"
    }
   },
   "cell_type": "code",
   "source": [
    "from pyspark.sql import Row, DataFrame\n",
    "from pyspark.sql.types import StructType, StructField, StringType, IntegerType\n",
    "from pyspark.sql.functions import col, expr, lit, substring, concat, concat_ws, when, coalesce\n",
    "from pyspark.sql import functions as F\n",
    "from functools import reduce"
   ],
   "id": "7bb8a416b51f89a6",
   "outputs": [],
   "execution_count": 25
  },
  {
   "metadata": {
    "ExecuteTime": {
     "end_time": "2025-02-16T17:00:30.343Z",
     "start_time": "2025-02-16T17:00:29.763849Z"
    }
   },
   "cell_type": "code",
   "source": [
    "from os import sep\n",
    "\n",
    "df = spark.read.csv('banklist.csv', sep= ',', inferSchema=True, header=True)\n",
    "\n",
    "print('df.count', df.count())\n",
    "print('df.columns', df.columns)\n",
    "print(\"df.lens\", len(df.columns))"
   ],
   "id": "904c58d24f1ba44f",
   "outputs": [
    {
     "name": "stdout",
     "output_type": "stream",
     "text": [
      "df.count 561\n",
      "df.columns ['Bank Name', 'City', 'ST', 'CERT', 'Acquiring Institution', 'Closing Date']\n",
      "df.lens 6\n"
     ]
    }
   ],
   "execution_count": 26
  },
  {
   "metadata": {},
   "cell_type": "markdown",
   "source": "### Usando SQL no Spark",
   "id": "abbda83ac749dc01"
  },
  {
   "metadata": {
    "ExecuteTime": {
     "end_time": "2025-02-16T17:00:30.716179Z",
     "start_time": "2025-02-16T17:00:30.385559Z"
    }
   },
   "cell_type": "code",
   "source": [
    "df.createOrReplaceTempView('banklist')\n",
    "df_check = spark.sql('''select `Bank Name`, City, `Closing Date` from banklist''')\n",
    "df_check.show(10)"
   ],
   "id": "d4d922828340d059",
   "outputs": [
    {
     "name": "stdout",
     "output_type": "stream",
     "text": [
      "+--------------------+-------------+------------+\n",
      "|           Bank Name|         City|Closing Date|\n",
      "+--------------------+-------------+------------+\n",
      "|The First State Bank|Barboursville|    3-Apr-20|\n",
      "|  Ericson State Bank|      Ericson|   14-Feb-20|\n",
      "|City National Ban...|       Newark|    1-Nov-19|\n",
      "|       Resolute Bank|       Maumee|   25-Oct-19|\n",
      "|Louisa Community ...|       Louisa|   25-Oct-19|\n",
      "|The Enloe State Bank|       Cooper|   31-May-19|\n",
      "|Washington Federa...|      Chicago|   15-Dec-17|\n",
      "|The Farmers and M...|      Argonia|   13-Oct-17|\n",
      "| Fayette County Bank|   Saint Elmo|   26-May-17|\n",
      "|Guaranty Bank, (d...|    Milwaukee|    5-May-17|\n",
      "+--------------------+-------------+------------+\n",
      "only showing top 10 rows\n",
      "\n"
     ]
    }
   ],
   "execution_count": 27
  },
  {
   "metadata": {
    "ExecuteTime": {
     "end_time": "2025-02-16T17:00:33.249869Z",
     "start_time": "2025-02-16T17:00:30.767702Z"
    }
   },
   "cell_type": "code",
   "source": "df.describe().show()",
   "id": "903e1d65ae9abea",
   "outputs": [
    {
     "name": "stdout",
     "output_type": "stream",
     "text": [
      "+-------+--------------------+-------+----+-----------------+---------------------+------------+\n",
      "|summary|           Bank Name|   City|  ST|             CERT|Acquiring Institution|Closing Date|\n",
      "+-------+--------------------+-------+----+-----------------+---------------------+------------+\n",
      "|  count|                 561|    561| 561|              561|                  561|         561|\n",
      "|   mean|                NULL|   NULL|NULL|31685.68449197861|                 NULL|        NULL|\n",
      "| stddev|                NULL|   NULL|NULL|16446.65659309965|                 NULL|        NULL|\n",
      "|    min|1st American Stat...|Acworth|  AL|               91|      1st United Bank|    1-Aug-08|\n",
      "|    max|               ebank|Wyoming|  WY|            58701|  Your Community Bank|    9-Sep-11|\n",
      "+-------+--------------------+-------+----+-----------------+---------------------+------------+\n",
      "\n"
     ]
    }
   ],
   "execution_count": 28
  },
  {
   "metadata": {
    "ExecuteTime": {
     "end_time": "2025-02-16T17:00:33.842225Z",
     "start_time": "2025-02-16T17:00:33.308287Z"
    }
   },
   "cell_type": "code",
   "source": "df.describe('City', 'ST').show()",
   "id": "cb74ca127828fca4",
   "outputs": [
    {
     "name": "stdout",
     "output_type": "stream",
     "text": [
      "+-------+-------+----+\n",
      "|summary|   City|  ST|\n",
      "+-------+-------+----+\n",
      "|  count|    561| 561|\n",
      "|   mean|   NULL|NULL|\n",
      "| stddev|   NULL|NULL|\n",
      "|    min|Acworth|  AL|\n",
      "|    max|Wyoming|  WY|\n",
      "+-------+-------+----+\n",
      "\n"
     ]
    }
   ],
   "execution_count": 29
  },
  {
   "metadata": {},
   "cell_type": "markdown",
   "source": "### Usando funções Count , colunms e Schema",
   "id": "4ec96f251d42c01d"
  },
  {
   "metadata": {
    "ExecuteTime": {
     "end_time": "2025-02-16T17:00:34.198746Z",
     "start_time": "2025-02-16T17:00:33.918005Z"
    }
   },
   "cell_type": "code",
   "source": [
    "print('Total de linhas:' , df.count())\n",
    "print('Total de colunas:', len(df.columns))\n",
    "print('colunas:', df.columns)\n",
    "print('Tipos de dados:', df.dtypes)\n",
    "print()\n",
    "print('Schema:', df.printSchema())"
   ],
   "id": "faef9fb1fa1860af",
   "outputs": [
    {
     "name": "stdout",
     "output_type": "stream",
     "text": [
      "Total de linhas: 561\n",
      "Total de colunas: 6\n",
      "colunas: ['Bank Name', 'City', 'ST', 'CERT', 'Acquiring Institution', 'Closing Date']\n",
      "Tipos de dados: [('Bank Name', 'string'), ('City', 'string'), ('ST', 'string'), ('CERT', 'int'), ('Acquiring Institution', 'string'), ('Closing Date', 'string')]\n",
      "\n",
      "root\n",
      " |-- Bank Name: string (nullable = true)\n",
      " |-- City: string (nullable = true)\n",
      " |-- ST: string (nullable = true)\n",
      " |-- CERT: integer (nullable = true)\n",
      " |-- Acquiring Institution: string (nullable = true)\n",
      " |-- Closing Date: string (nullable = true)\n",
      "\n",
      "Schema: None\n"
     ]
    }
   ],
   "execution_count": 30
  },
  {
   "metadata": {
    "ExecuteTime": {
     "end_time": "2025-02-16T17:00:34.526875Z",
     "start_time": "2025-02-16T17:00:34.230063Z"
    }
   },
   "cell_type": "code",
   "source": [
    "df.dropDuplicates()\n",
    "print('Total de linhas:', df.count())\n",
    "print('Total de colunas:', len(df.columns))"
   ],
   "id": "6138714826d142fd",
   "outputs": [
    {
     "name": "stdout",
     "output_type": "stream",
     "text": [
      "Total de linhas: 561\n",
      "Total de colunas: 6\n"
     ]
    }
   ],
   "execution_count": 31
  },
  {
   "metadata": {
    "ExecuteTime": {
     "end_time": "2025-02-16T17:00:34.805286Z",
     "start_time": "2025-02-16T17:00:34.568843Z"
    }
   },
   "cell_type": "code",
   "source": [
    "df2 = df.select('Bank Name', 'City')\n",
    "df2.show(5)"
   ],
   "id": "c81c24382b62d718",
   "outputs": [
    {
     "name": "stdout",
     "output_type": "stream",
     "text": [
      "+--------------------+-------------+\n",
      "|           Bank Name|         City|\n",
      "+--------------------+-------------+\n",
      "|The First State Bank|Barboursville|\n",
      "|  Ericson State Bank|      Ericson|\n",
      "|City National Ban...|       Newark|\n",
      "|       Resolute Bank|       Maumee|\n",
      "|Louisa Community ...|       Louisa|\n",
      "+--------------------+-------------+\n",
      "only showing top 5 rows\n",
      "\n"
     ]
    }
   ],
   "execution_count": 32
  },
  {
   "metadata": {},
   "cell_type": "markdown",
   "source": "### Removendo colunas",
   "id": "ee19e071fc838c13"
  },
  {
   "metadata": {
    "ExecuteTime": {
     "end_time": "2025-02-16T17:00:35.129360Z",
     "start_time": "2025-02-16T17:00:34.857857Z"
    }
   },
   "cell_type": "code",
   "source": [
    "col_1 = list(set(df.columns) - {'CERT','ST'})\n",
    "df2 = df.select(col_1)\n",
    "df2.show(5)"
   ],
   "id": "4a686a1fe264d34c",
   "outputs": [
    {
     "name": "stdout",
     "output_type": "stream",
     "text": [
      "+--------------------+---------------------+-------------+------------+\n",
      "|           Bank Name|Acquiring Institution|         City|Closing Date|\n",
      "+--------------------+---------------------+-------------+------------+\n",
      "|The First State Bank|       MVB Bank, Inc.|Barboursville|    3-Apr-20|\n",
      "|  Ericson State Bank| Farmers and Merch...|      Ericson|   14-Feb-20|\n",
      "|City National Ban...|      Industrial Bank|       Newark|    1-Nov-19|\n",
      "|       Resolute Bank|   Buckeye State Bank|       Maumee|   25-Oct-19|\n",
      "|Louisa Community ...| Kentucky Farmers ...|       Louisa|   25-Oct-19|\n",
      "+--------------------+---------------------+-------------+------------+\n",
      "only showing top 5 rows\n",
      "\n"
     ]
    }
   ],
   "execution_count": 33
  },
  {
   "metadata": {},
   "cell_type": "markdown",
   "source": "### Renomeando Colunas",
   "id": "f14fa70829eef9fd"
  },
  {
   "metadata": {
    "ExecuteTime": {
     "end_time": "2025-02-16T17:00:35.519301Z",
     "start_time": "2025-02-16T17:00:35.169954Z"
    }
   },
   "cell_type": "code",
   "source": [
    "df2 = df \\\n",
    "  .withColumnRenamed('Bank Name', 'nome_do_Banco') \\\n",
    "  .withColumnRenamed('City', 'cidade') \\\n",
    "  .withColumnRenamed('ST', 'estado') \\\n",
    "  .withColumnRenamed('Address', 'endereço') \\\n",
    "  .withColumnRenamed('Closing Date', 'data_de_fechamento') \\\n",
    "  .withColumnRenamed('Acquiring Institution', 'instituição_de_acquirência') \\\n",
    "  .withColumnRenamed('CERT', 'cert')\n",
    "\n",
    "df2.show(5)"
   ],
   "id": "44bed5481963343a",
   "outputs": [
    {
     "name": "stdout",
     "output_type": "stream",
     "text": [
      "+--------------------+-------------+------+-----+--------------------------+------------------+\n",
      "|       nome_do_Banco|       cidade|estado| cert|instituição_de_acquirência|data_de_fechamento|\n",
      "+--------------------+-------------+------+-----+--------------------------+------------------+\n",
      "|The First State Bank|Barboursville|    WV|14361|            MVB Bank, Inc.|          3-Apr-20|\n",
      "|  Ericson State Bank|      Ericson|    NE|18265|      Farmers and Merch...|         14-Feb-20|\n",
      "|City National Ban...|       Newark|    NJ|21111|           Industrial Bank|          1-Nov-19|\n",
      "|       Resolute Bank|       Maumee|    OH|58317|        Buckeye State Bank|         25-Oct-19|\n",
      "|Louisa Community ...|       Louisa|    KY|58112|      Kentucky Farmers ...|         25-Oct-19|\n",
      "+--------------------+-------------+------+-----+--------------------------+------------------+\n",
      "only showing top 5 rows\n",
      "\n"
     ]
    }
   ],
   "execution_count": 34
  },
  {
   "metadata": {},
   "cell_type": "markdown",
   "source": [
    "\n",
    "### Adiciona Colunas"
   ],
   "id": "a18326e67e80f233"
  },
  {
   "metadata": {
    "ExecuteTime": {
     "end_time": "2025-02-16T17:00:36.268663Z",
     "start_time": "2025-02-16T17:00:35.566777Z"
    }
   },
   "cell_type": "code",
   "source": [
    "df2 = df.withColumn('state', col('ST'))\n",
    "df2.show(5)"
   ],
   "id": "a03992b1f4e8b5cc",
   "outputs": [
    {
     "name": "stdout",
     "output_type": "stream",
     "text": [
      "+--------------------+-------------+---+-----+---------------------+------------+-----+\n",
      "|           Bank Name|         City| ST| CERT|Acquiring Institution|Closing Date|state|\n",
      "+--------------------+-------------+---+-----+---------------------+------------+-----+\n",
      "|The First State Bank|Barboursville| WV|14361|       MVB Bank, Inc.|    3-Apr-20|   WV|\n",
      "|  Ericson State Bank|      Ericson| NE|18265| Farmers and Merch...|   14-Feb-20|   NE|\n",
      "|City National Ban...|       Newark| NJ|21111|      Industrial Bank|    1-Nov-19|   NJ|\n",
      "|       Resolute Bank|       Maumee| OH|58317|   Buckeye State Bank|   25-Oct-19|   OH|\n",
      "|Louisa Community ...|       Louisa| KY|58112| Kentucky Farmers ...|   25-Oct-19|   KY|\n",
      "+--------------------+-------------+---+-----+---------------------+------------+-----+\n",
      "only showing top 5 rows\n",
      "\n"
     ]
    }
   ],
   "execution_count": 35
  },
  {
   "metadata": {},
   "cell_type": "markdown",
   "source": [
    "### Adicionar uma coluna constante\n",
    "Coluna com valor fixo"
   ],
   "id": "4123022318a6c1e1"
  },
  {
   "metadata": {
    "ExecuteTime": {
     "end_time": "2025-02-16T17:00:36.668756Z",
     "start_time": "2025-02-16T17:00:36.334857Z"
    }
   },
   "cell_type": "code",
   "source": [
    "df2 = df.withColumn('country', lit('US'))\n",
    "df2.show(5)"
   ],
   "id": "a4a0e3576e9c013d",
   "outputs": [
    {
     "name": "stdout",
     "output_type": "stream",
     "text": [
      "+--------------------+-------------+---+-----+---------------------+------------+-------+\n",
      "|           Bank Name|         City| ST| CERT|Acquiring Institution|Closing Date|country|\n",
      "+--------------------+-------------+---+-----+---------------------+------------+-------+\n",
      "|The First State Bank|Barboursville| WV|14361|       MVB Bank, Inc.|    3-Apr-20|     US|\n",
      "|  Ericson State Bank|      Ericson| NE|18265| Farmers and Merch...|   14-Feb-20|     US|\n",
      "|City National Ban...|       Newark| NJ|21111|      Industrial Bank|    1-Nov-19|     US|\n",
      "|       Resolute Bank|       Maumee| OH|58317|   Buckeye State Bank|   25-Oct-19|     US|\n",
      "|Louisa Community ...|       Louisa| KY|58112| Kentucky Farmers ...|   25-Oct-19|     US|\n",
      "+--------------------+-------------+---+-----+---------------------+------------+-------+\n",
      "only showing top 5 rows\n",
      "\n"
     ]
    }
   ],
   "execution_count": 36
  },
  {
   "metadata": {},
   "cell_type": "markdown",
   "source": "### Remover uma coluna",
   "id": "a4de312ca1015a2d"
  },
  {
   "metadata": {
    "ExecuteTime": {
     "end_time": "2025-02-16T17:00:37.161997Z",
     "start_time": "2025-02-16T17:00:36.707726Z"
    }
   },
   "cell_type": "code",
   "source": [
    "df2 = df.drop('CERT')\n",
    "df2.show(5)"
   ],
   "id": "b053db98188c1df",
   "outputs": [
    {
     "name": "stdout",
     "output_type": "stream",
     "text": [
      "+--------------------+-------------+---+---------------------+------------+\n",
      "|           Bank Name|         City| ST|Acquiring Institution|Closing Date|\n",
      "+--------------------+-------------+---+---------------------+------------+\n",
      "|The First State Bank|Barboursville| WV|       MVB Bank, Inc.|    3-Apr-20|\n",
      "|  Ericson State Bank|      Ericson| NE| Farmers and Merch...|   14-Feb-20|\n",
      "|City National Ban...|       Newark| NJ|      Industrial Bank|    1-Nov-19|\n",
      "|       Resolute Bank|       Maumee| OH|   Buckeye State Bank|   25-Oct-19|\n",
      "|Louisa Community ...|       Louisa| KY| Kentucky Farmers ...|   25-Oct-19|\n",
      "+--------------------+-------------+---+---------------------+------------+\n",
      "only showing top 5 rows\n",
      "\n"
     ]
    }
   ],
   "execution_count": 37
  },
  {
   "metadata": {
    "ExecuteTime": {
     "end_time": "2025-02-16T17:00:37.534109Z",
     "start_time": "2025-02-16T17:00:37.266209Z"
    }
   },
   "cell_type": "code",
   "source": [
    "df2 = reduce(DataFrame.drop, ['ST', 'Address'], df)\n",
    "df2.show(5)"
   ],
   "id": "33df2dc00f522c40",
   "outputs": [
    {
     "name": "stdout",
     "output_type": "stream",
     "text": [
      "+--------------------+-------------+-----+---------------------+------------+\n",
      "|           Bank Name|         City| CERT|Acquiring Institution|Closing Date|\n",
      "+--------------------+-------------+-----+---------------------+------------+\n",
      "|The First State Bank|Barboursville|14361|       MVB Bank, Inc.|    3-Apr-20|\n",
      "|  Ericson State Bank|      Ericson|18265| Farmers and Merch...|   14-Feb-20|\n",
      "|City National Ban...|       Newark|21111|      Industrial Bank|    1-Nov-19|\n",
      "|       Resolute Bank|       Maumee|58317|   Buckeye State Bank|   25-Oct-19|\n",
      "|Louisa Community ...|       Louisa|58112| Kentucky Farmers ...|   25-Oct-19|\n",
      "+--------------------+-------------+-----+---------------------+------------+\n",
      "only showing top 5 rows\n",
      "\n"
     ]
    }
   ],
   "execution_count": 38
  },
  {
   "metadata": {},
   "cell_type": "markdown",
   "source": "### Filter data",
   "id": "4cd48f9985514622"
  },
  {
   "metadata": {
    "ExecuteTime": {
     "end_time": "2025-02-16T17:00:39.039168Z",
     "start_time": "2025-02-16T17:00:37.578652Z"
    }
   },
   "cell_type": "code",
   "source": [
    "# Valores iguais\n",
    "df2 = df.where(col('ST') == 'NE')\n",
    "\n",
    "# Valores entre \"Between\"\n",
    "df3 = df.where(df['CERT'].between('1000', '2000'))\n",
    "\n",
    "# está dentro de varios valores \"isin\"\n",
    "\n",
    "df4 = df.where(df['ST'].isin('NE', 'IL'))\n",
    "\n",
    "print('df.count', df.count())\n",
    "print('df2.count', df2.count())\n",
    "print('df3.count', df3.count())\n",
    "print('df4.count', df4.count())"
   ],
   "id": "c57f92f03bb1202e",
   "outputs": [
    {
     "name": "stdout",
     "output_type": "stream",
     "text": [
      "df.count 561\n",
      "df2.count 4\n",
      "df3.count 9\n",
      "df4.count 73\n"
     ]
    }
   ],
   "execution_count": 39
  },
  {
   "metadata": {},
   "cell_type": "markdown",
   "source": "### Filtros com operadores lógicos",
   "id": "9a4190b94234ca80"
  },
  {
   "metadata": {
    "ExecuteTime": {
     "end_time": "2025-02-16T17:00:39.399455Z",
     "start_time": "2025-02-16T17:00:39.082363Z"
    }
   },
   "cell_type": "code",
   "source": [
    "df2 = df.where((df['ST'] == 'NE') & (df['City'] == 'Ericson'))\n",
    "df2.show(5)"
   ],
   "id": "9e3617ff55b89df9",
   "outputs": [
    {
     "name": "stdout",
     "output_type": "stream",
     "text": [
      "+------------------+-------+---+-----+---------------------+------------+\n",
      "|         Bank Name|   City| ST| CERT|Acquiring Institution|Closing Date|\n",
      "+------------------+-------+---+-----+---------------------+------------+\n",
      "|Ericson State Bank|Ericson| NE|18265| Farmers and Merch...|   14-Feb-20|\n",
      "+------------------+-------+---+-----+---------------------+------------+\n",
      "\n"
     ]
    }
   ],
   "execution_count": 40
  },
  {
   "metadata": {},
   "cell_type": "markdown",
   "source": "### Replace values in DataFrame",
   "id": "3bfbfc2abd5d4242"
  },
  {
   "metadata": {
    "ExecuteTime": {
     "end_time": "2025-02-16T17:00:40.425692Z",
     "start_time": "2025-02-16T17:00:39.431369Z"
    }
   },
   "cell_type": "code",
   "source": [
    "df.show(2)\n",
    "\n",
    "print('Replace 7 in the above dataframe with 17 at all instance')\n",
    "df.na.replace(7, 17).show(2)"
   ],
   "id": "2da79c7e613e2199",
   "outputs": [
    {
     "name": "stdout",
     "output_type": "stream",
     "text": [
      "+--------------------+-------------+---+-----+---------------------+------------+\n",
      "|           Bank Name|         City| ST| CERT|Acquiring Institution|Closing Date|\n",
      "+--------------------+-------------+---+-----+---------------------+------------+\n",
      "|The First State Bank|Barboursville| WV|14361|       MVB Bank, Inc.|    3-Apr-20|\n",
      "|  Ericson State Bank|      Ericson| NE|18265| Farmers and Merch...|   14-Feb-20|\n",
      "+--------------------+-------------+---+-----+---------------------+------------+\n",
      "only showing top 2 rows\n",
      "\n",
      "Replace 7 in the above dataframe with 17 at all instance\n",
      "+--------------------+-------------+---+-----+---------------------+------------+\n",
      "|           Bank Name|         City| ST| CERT|Acquiring Institution|Closing Date|\n",
      "+--------------------+-------------+---+-----+---------------------+------------+\n",
      "|The First State Bank|Barboursville| WV|14361|       MVB Bank, Inc.|    3-Apr-20|\n",
      "|  Ericson State Bank|      Ericson| NE|18265| Farmers and Merch...|   14-Feb-20|\n",
      "+--------------------+-------------+---+-----+---------------------+------------+\n",
      "only showing top 2 rows\n",
      "\n"
     ]
    }
   ],
   "execution_count": 41
  },
  {
   "metadata": {
    "ExecuteTime": {
     "end_time": "2025-02-16T17:00:40.454524Z",
     "start_time": "2025-02-16T17:00:40.450511Z"
    }
   },
   "cell_type": "code",
   "source": "",
   "id": "47368474e92ba85d",
   "outputs": [],
   "execution_count": null
  }
 ],
 "metadata": {
  "kernelspec": {
   "display_name": "Python 3",
   "language": "python",
   "name": "python3"
  },
  "language_info": {
   "codemirror_mode": {
    "name": "ipython",
    "version": 2
   },
   "file_extension": ".py",
   "mimetype": "text/x-python",
   "name": "python",
   "nbconvert_exporter": "python",
   "pygments_lexer": "ipython2",
   "version": "2.7.6"
  }
 },
 "nbformat": 4,
 "nbformat_minor": 5
}
