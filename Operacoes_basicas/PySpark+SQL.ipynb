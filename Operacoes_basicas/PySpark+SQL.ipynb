{
 "nbformat": 4,
 "nbformat_minor": 0,
 "metadata": {
  "colab": {
   "provenance": []
  },
  "kernelspec": {
   "name": "python3",
   "display_name": "Python 3 (ipykernel)",
   "language": "python"
  },
  "language_info": {
   "name": "python"
  }
 },
 "cells": [
  {
   "cell_type": "code",
   "source": [
    "import pyspark"
   ],
   "metadata": {
    "id": "p3CyG18SYKw6",
    "ExecuteTime": {
     "end_time": "2025-03-10T13:34:56.890844Z",
     "start_time": "2025-03-10T13:34:56.733355Z"
    }
   },
   "outputs": [],
   "execution_count": 1
  },
  {
   "cell_type": "code",
   "source": [
    "import findspark\n",
    "findspark.init()\n",
    "from pyspark.sql import SparkSession\n",
    "\n"
   ],
   "metadata": {
    "id": "BonqOa38YTJj",
    "ExecuteTime": {
     "end_time": "2025-03-10T13:41:33.353293Z",
     "start_time": "2025-03-10T13:41:33.252415Z"
    }
   },
   "outputs": [],
   "execution_count": 5
  },
  {
   "cell_type": "markdown",
   "source": "### Spark SQL - Consultas e seleções",
   "metadata": {
    "id": "ux3OUZGJZYks"
   }
  },
  {
   "cell_type": "code",
   "source": [
    "df = spark.sql('''SELECT 'OK' as status''')\n",
    "df.show()"
   ],
   "metadata": {
    "colab": {
     "base_uri": "https://localhost:8080/"
    },
    "id": "bPFyhTivYY7J",
    "outputId": "5fc6e0d9-b28d-43b6-c9fa-6765811012eb"
   },
   "outputs": [],
   "execution_count": null
  },
  {
   "cell_type": "markdown",
   "source": [
    "### Importing Data"
   ],
   "metadata": {
    "id": "FOg0HNl2ZzT-"
   }
  },
  {
   "cell_type": "code",
   "source": [
    "df = spark.read.csv('/content/drive/MyDrive/PÓS DATA ANALYTICS/BASES POS TECH 3/SPARK/cereal.csv', sep=',', header=True, inferSchema=True)"
   ],
   "metadata": {
    "id": "tMFooSbYZpGG"
   },
   "outputs": [],
   "execution_count": null
  },
  {
   "cell_type": "code",
   "source": [
    "df.show()"
   ],
   "metadata": {
    "colab": {
     "base_uri": "https://localhost:8080/"
    },
    "id": "GcLwcot7aE8O",
    "outputId": "0d04ddec-129b-4577-f5de-adb12c557d1c"
   },
   "outputs": [],
   "execution_count": null
  },
  {
   "cell_type": "markdown",
   "source": [
    "### Manipulation Data With Spark SQL"
   ],
   "metadata": {
    "id": "H2boSaz9adpD"
   }
  },
  {
   "cell_type": "code",
   "source": [
    "df.createOrReplaceTempView('cereal')"
   ],
   "metadata": {
    "id": "sfaTojEsaG57"
   },
   "outputs": [],
   "execution_count": null
  },
  {
   "cell_type": "code",
   "source": [
    "cereal  = spark.sql('''SELECT * FROM cereal''')\n",
    "cereal.show()"
   ],
   "metadata": {
    "colab": {
     "base_uri": "https://localhost:8080/"
    },
    "id": "udJuezdsauvY",
    "outputId": "95240a25-eec7-4c05-87c9-4bcda664b0c9"
   },
   "outputs": [],
   "execution_count": null
  },
  {
   "cell_type": "code",
   "source": [
    "cereal2  = spark.sql('''SELECT * FROM cereal WHERE type = 'C' ''')\n",
    "cereal2.show()"
   ],
   "metadata": {
    "colab": {
     "base_uri": "https://localhost:8080/"
    },
    "id": "kptzIAV7bCb0",
    "outputId": "0cc46d32-65fa-4cc5-a321-72ac6595c5cf"
   },
   "outputs": [],
   "execution_count": null
  },
  {
   "cell_type": "code",
   "source": [
    "df.show()"
   ],
   "metadata": {
    "colab": {
     "base_uri": "https://localhost:8080/"
    },
    "id": "iiuzZi4gbgX4",
    "outputId": "fdf070c6-eb64-48c5-f1b4-c401e4e02b26"
   },
   "outputs": [],
   "execution_count": null
  },
  {
   "cell_type": "code",
   "source": [
    "df.where(df['mfr'] == 'G').show()"
   ],
   "metadata": {
    "colab": {
     "base_uri": "https://localhost:8080/"
    },
    "id": "bbDb_W8WbtU5",
    "outputId": "0ee55cbd-3cca-41de-b17e-65d525dd10e4"
   },
   "outputs": [],
   "execution_count": null
  },
  {
   "cell_type": "markdown",
   "source": [
    "### Select no SparkSQL"
   ],
   "metadata": {
    "id": "Sxjey87aj1XW"
   }
  },
  {
   "cell_type": "code",
   "source": [
    "df.printSchema()"
   ],
   "metadata": {
    "colab": {
     "base_uri": "https://localhost:8080/"
    },
    "id": "4pf72IeVkD59",
    "outputId": "2f10021b-28d8-47d7-bf59-dc8607c6c8b3"
   },
   "outputs": [],
   "execution_count": null
  },
  {
   "cell_type": "code",
   "source": [
    "df.createOrReplaceTempView('cereal')"
   ],
   "metadata": {
    "id": "P6fhXnXPkT9V"
   },
   "outputs": [],
   "execution_count": null
  },
  {
   "cell_type": "code",
   "source": [
    "cereal3 = spark.sql('''SELECT DISTINCT type, mfr FROM cereal''')"
   ],
   "metadata": {
    "id": "gvgMxJp-b-wB"
   },
   "outputs": [],
   "execution_count": null
  },
  {
   "cell_type": "code",
   "source": [
    "cereal3.count()"
   ],
   "metadata": {
    "colab": {
     "base_uri": "https://localhost:8080/"
    },
    "id": "y_H-OnNhkdZm",
    "outputId": "fe714592-f104-4375-d195-73b5c06bbae7"
   },
   "outputs": [],
   "execution_count": null
  },
  {
   "cell_type": "markdown",
   "source": [
    "### WHERE no SparkSQL"
   ],
   "metadata": {
    "id": "fn700_U8yLPf"
   }
  },
  {
   "cell_type": "code",
   "source": [
    "cereal4 = spark.sql('''SELECT * FROM cereal WHERE mfr = 'K' AND calories >= 100  ''')\n",
    "cereal4.count()"
   ],
   "metadata": {
    "colab": {
     "base_uri": "https://localhost:8080/"
    },
    "id": "C35fOHN5kemW",
    "outputId": "0d3e8230-ecbe-43a3-e100-14f0ffa46eb8"
   },
   "outputs": [],
   "execution_count": null
  },
  {
   "cell_type": "code",
   "source": [
    "cereal4 = spark.sql('''SELECT * FROM cereal WHERE mfr = 'K' ''')\n",
    "cereal4.show(4)\n",
    "print('Contagam de linha:' , cereal4.count())"
   ],
   "metadata": {
    "colab": {
     "base_uri": "https://localhost:8080/"
    },
    "id": "N-aBNqf40jPo",
    "outputId": "f67b0a33-49c3-40e3-8b36-ee9484d6d42d"
   },
   "outputs": [],
   "execution_count": null
  },
  {
   "cell_type": "code",
   "source": [
    "cereal4 = spark.sql('''SELECT * FROM cereal WHERE mfr = 'K' AND calories >= 100 ''')\n",
    "cereal4.show(4)\n",
    "print('Contagam de linha:' , cereal4.count())"
   ],
   "metadata": {
    "colab": {
     "base_uri": "https://localhost:8080/"
    },
    "id": "mUSm16GAyXw6",
    "outputId": "4b0bf520-be94-4d7e-adb8-8472d857cf65"
   },
   "outputs": [],
   "execution_count": null
  },
  {
   "source": [
    "cereal4 = spark.sql('''SELECT * FROM cereal WHERE mfr = 'K' AND calories = 100 ''')\n",
    "cereal4.show(4)\n",
    "print('Contagam de linha:' , cereal4.count())"
   ],
   "cell_type": "code",
   "metadata": {
    "colab": {
     "base_uri": "https://localhost:8080/"
    },
    "id": "RV1NLzVF1jeQ",
    "outputId": "cb090150-7e8a-4189-fee4-48b989f84b21"
   },
   "outputs": [],
   "execution_count": null
  },
  {
   "cell_type": "markdown",
   "source": [
    "### GroupBy"
   ],
   "metadata": {
    "id": "IOhgObnV1IKR"
   }
  },
  {
   "cell_type": "code",
   "source": [
    "cereal4 = spark.sql('''SELECT type, mfr, COUNT(*) AS Total FROM cereal GROUP BY mfr, type ''')\n",
    "cereal4.show(4)\n",
    "print('Contagam de linha:' , cereal4.count())"
   ],
   "metadata": {
    "colab": {
     "base_uri": "https://localhost:8080/"
    },
    "id": "fSz1MmHx1H6v",
    "outputId": "b8fac173-6c94-4b0f-d812-681a29d9ae17"
   },
   "outputs": [],
   "execution_count": null
  },
  {
   "cell_type": "markdown",
   "source": [
    "### Agregação de funções cont e sum"
   ],
   "metadata": {
    "id": "Rys5nB-v29XS"
   }
  },
  {
   "cell_type": "code",
   "source": [
    "cereal4 = spark.sql('''SELECT type, mfr, COUNT(*) AS Total, SUM(calories) total_calorias FROM cereal GROUP BY mfr, type ''')\n",
    "cereal4.show(4)\n",
    "print('Contagam de linha:' , cereal4.count())"
   ],
   "metadata": {
    "colab": {
     "base_uri": "https://localhost:8080/"
    },
    "id": "mXIxgZpO2EG3",
    "outputId": "ad5c9983-9fd3-4928-af18-7203517f1dd9"
   },
   "outputs": [],
   "execution_count": null
  },
  {
   "cell_type": "markdown",
   "source": [
    "### Melhorando legibilidade do codigo com indentação"
   ],
   "metadata": {
    "id": "RvRFhQr530gj"
   }
  },
  {
   "cell_type": "code",
   "source": [
    "cereal4 = spark.sql('''SELECT mfr, \\\n",
    "                              type, \\\n",
    "                              COUNT(*) AS Total, \\\n",
    "                              SUM(calories) total_calorias \\\n",
    "                   FROM cereal \\\n",
    "                   GROUP BY \\\n",
    "                              mfr, \\\n",
    "                              type ''')\n",
    "cereal4.show(4)\n",
    "print('Contagam de linha:' , cereal4.count())"
   ],
   "metadata": {
    "colab": {
     "base_uri": "https://localhost:8080/"
    },
    "id": "qFtffD_h3JLd",
    "outputId": "a90bc329-f226-4e2d-c409-1c2fa5e58a87"
   },
   "outputs": [],
   "execution_count": null
  },
  {
   "cell_type": "markdown",
   "source": [
    "### CASE WHEN"
   ],
   "metadata": {
    "id": "Ejrl2ld55nLo"
   }
  },
  {
   "cell_type": "code",
   "source": [
    "cereal4 = spark.sql('''SELECT DISTINCT type \\\n",
    "                       FROM cereal''')\n",
    "cereal4.show(4)\n",
    "print('Contagam de linha:' , cereal4.count())"
   ],
   "metadata": {
    "colab": {
     "base_uri": "https://localhost:8080/"
    },
    "id": "rT5mV_Vx55PB",
    "outputId": "b161c8a2-a52a-4c66-9305-38aa759e2450"
   },
   "outputs": [],
   "execution_count": null
  },
  {
   "source": [
    "cereal4 = spark.sql('''SELECT mfr,\n",
    "                              type,\n",
    "                              (case\n",
    "                                    when type = 'C' then 'A'\n",
    "                                    when type = 'H' then 'B'\n",
    "                                    else 'C'\n",
    "                                    end)\n",
    "                                    as type_new,\n",
    "                              COUNT(*) AS Total,\n",
    "                              sum(calories) total_calorias\n",
    "                   FROM cereal\n",
    "                   GROUP BY\n",
    "                              mfr,\n",
    "                              type ''')\n",
    "cereal4.show()\n",
    "print('Contagam de linha:' , cereal4.count())"
   ],
   "cell_type": "code",
   "metadata": {
    "colab": {
     "base_uri": "https://localhost:8080/"
    },
    "id": "DntjYljJ8EqJ",
    "outputId": "91b1bd4e-e795-422b-b704-b375c9ba4a9e"
   },
   "outputs": [],
   "execution_count": null
  },
  {
   "cell_type": "markdown",
   "source": [
    "### Consultas avançadas com PySpark e SQL"
   ],
   "metadata": {
    "id": "-RpAdIbB5Bce"
   }
  },
  {
   "cell_type": "code",
   "source": [
    "cereal4 = spark.sql('''\n",
    "                      SELECT mfr,\n",
    "                      type,\n",
    "\n",
    "                      sum(calories) as sum_calories,\n",
    "                      min(calories) as min_calories,\n",
    "                      max(calories) as max_calories,\n",
    "                      cast(avg(calories) as decimal (10,2)) as avg_calories,\n",
    "\n",
    "                      sum(carbo) as sum_carbo,\n",
    "                      min(carbo) as min_carbo,\n",
    "                      max(carbo) as max_carbo,\n",
    "                      cast(avg(carbo) as decimal (10,2)) as avg_carbo,\n",
    "\n",
    "                      sum(vitamins) as sum_vitamins,\n",
    "                      min(vitamins) as min_vitamins,\n",
    "                      max(vitamins) as max_vitamins,\n",
    "                      cast(avg(vitamins) as decimal (10,2)) as avg_vitamins,\n",
    "\n",
    "\n",
    "                      count(distinct name),\n",
    "                      count(name)\n",
    "                   FROM cereal\n",
    "                   GROUP BY\n",
    "                              mfr,\n",
    "                              type\n",
    "                   ORDER BY\n",
    "                              mfr,\n",
    "                              type\n",
    "                   ''')\n",
    "cereal4.show()"
   ],
   "metadata": {
    "id": "2AkM64S16znR",
    "colab": {
     "base_uri": "https://localhost:8080/"
    },
    "outputId": "1eda7f03-4160-4ca8-a213-4fb7acd7d6b4"
   },
   "outputs": [],
   "execution_count": null
  },
  {
   "cell_type": "code",
   "source": [],
   "metadata": {
    "id": "bmFCSuKvX1F4"
   },
   "outputs": [],
   "execution_count": null
  },
  {
   "cell_type": "code",
   "source": [],
   "metadata": {
    "id": "pkKk7Dw_38r7"
   },
   "outputs": [],
   "execution_count": null
  },
  {
   "cell_type": "code",
   "source": [],
   "metadata": {
    "id": "OZq5Y12b4_Sg"
   },
   "outputs": [],
   "execution_count": null
  }
 ]
}
