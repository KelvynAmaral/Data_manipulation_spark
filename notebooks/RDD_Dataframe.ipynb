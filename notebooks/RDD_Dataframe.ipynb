{
 "cells": [
  {
   "metadata": {},
   "cell_type": "markdown",
   "source": "# Configuração de bibliotecas no Pycharm",
   "id": "134e073826cfe463"
  },
  {
   "metadata": {},
   "cell_type": "markdown",
   "source": "### Criando a sessão do SparkContext e SparkSession",
   "id": "1b525826a6a870b1"
  },
  {
   "metadata": {
    "ExecuteTime": {
     "end_time": "2025-02-16T14:13:07.039589Z",
     "start_time": "2025-02-16T14:13:07.025565Z"
    }
   },
   "cell_type": "code",
   "source": [
    "from pyspark.sql import SparkSession\n",
    "\n",
    "spark = SparkSession.builder \\\n",
    "    .appName(\"YourAppName\") \\\n",
    "    .master(\"local[*]\") \\\n",
    "    .getOrCreate()\n"
   ],
   "id": "c0a5d9d5a3f51264",
   "outputs": [],
   "execution_count": 10
  },
  {
   "metadata": {
    "ExecuteTime": {
     "end_time": "2025-02-16T14:13:07.058671Z",
     "start_time": "2025-02-16T14:13:07.052652Z"
    }
   },
   "cell_type": "code",
   "source": [
    "from pyspark import SparkContext\n",
    "from pyspark.sql import SparkSession"
   ],
   "id": "3cc83ceeaf26006c",
   "outputs": [],
   "execution_count": 11
  },
  {
   "metadata": {
    "ExecuteTime": {
     "end_time": "2025-02-16T14:13:07.087887Z",
     "start_time": "2025-02-16T14:13:07.077053Z"
    }
   },
   "cell_type": "code",
   "source": "sc = SparkContext.getOrCreate()",
   "id": "5a3f87efea6afd03",
   "outputs": [],
   "execution_count": 12
  },
  {
   "metadata": {
    "ExecuteTime": {
     "end_time": "2025-02-16T14:13:07.107759Z",
     "start_time": "2025-02-16T14:13:07.099734Z"
    }
   },
   "cell_type": "code",
   "source": "spark = SparkSession.builder.appName('PySpark DataFrame From RDD').getOrCreate()",
   "id": "9d1bd0ad22154ee9",
   "outputs": [],
   "execution_count": 13
  },
  {
   "metadata": {},
   "cell_type": "markdown",
   "source": "# Criando PySpark DataFrame para RDD",
   "id": "39b0a9458cb87b5"
  },
  {
   "metadata": {
    "ExecuteTime": {
     "end_time": "2025-02-16T14:13:07.173085Z",
     "start_time": "2025-02-16T14:13:07.120725Z"
    }
   },
   "cell_type": "code",
   "source": "rdd = sc.parallelize([('C', 83, 76, 87, 90), ('A', 91, 89, 81, 85), ('B', 85, 88, 79, 83), ('D', 78, 89, 88, 87), ('E', 90, 82, 85, 89)])",
   "id": "e23976cef4a069ca",
   "outputs": [],
   "execution_count": 14
  },
  {
   "metadata": {
    "ExecuteTime": {
     "end_time": "2025-02-16T14:13:07.205111Z",
     "start_time": "2025-02-16T14:13:07.198637Z"
    }
   },
   "cell_type": "code",
   "source": "print(type(rdd))",
   "id": "3dde6a3d13b5b6fd",
   "outputs": [
    {
     "name": "stdout",
     "output_type": "stream",
     "text": [
      "<class 'pyspark.rdd.RDD'>\n"
     ]
    }
   ],
   "execution_count": 15
  },
  {
   "metadata": {
    "ExecuteTime": {
     "end_time": "2025-02-16T14:13:07.233120Z",
     "start_time": "2025-02-16T14:13:07.225600Z"
    }
   },
   "cell_type": "code",
   "source": "sub = ['id_person', 'Value_1', 'Value_2', 'Value_3', 'Value_4']",
   "id": "b5d4dda690133960",
   "outputs": [],
   "execution_count": 16
  },
  {
   "metadata": {
    "ExecuteTime": {
     "end_time": "2025-02-16T14:13:07.254359Z",
     "start_time": "2025-02-16T14:13:07.248317Z"
    }
   },
   "cell_type": "code",
   "source": [
    "    print(f\"Número de colunas no esquema: {len(sub)}\")\n",
    "    print(f\"Colunas no esquema: {sub}\")\n",
    "    print()"
   ],
   "id": "fb9e3b208550df64",
   "outputs": [
    {
     "name": "stdout",
     "output_type": "stream",
     "text": [
      "Número de colunas no esquema: 5\n",
      "Colunas no esquema: ['id_person', 'Value_1', 'Value_2', 'Value_3', 'Value_4']\n",
      "\n"
     ]
    }
   ],
   "execution_count": 17
  },
  {
   "metadata": {
    "ExecuteTime": {
     "end_time": "2025-02-16T14:47:34.997708Z",
     "start_time": "2025-02-16T14:47:34.265563Z"
    }
   },
   "cell_type": "code",
   "source": [
    "data_list = rdd.collect()\n",
    "marks_df = spark.createDataFrame(data_list, schema=sub)\n"
   ],
   "id": "f440a66fa35541d4",
   "outputs": [],
   "execution_count": 26
  },
  {
   "metadata": {
    "ExecuteTime": {
     "end_time": "2025-02-16T14:47:44.101293Z",
     "start_time": "2025-02-16T14:47:44.083194Z"
    }
   },
   "cell_type": "code",
   "source": "marks_df.printSchema()",
   "id": "5dc89bc32ecabf36",
   "outputs": [
    {
     "name": "stdout",
     "output_type": "stream",
     "text": [
      "root\n",
      " |-- id_person: string (nullable = true)\n",
      " |-- Value_1: long (nullable = true)\n",
      " |-- Value_2: long (nullable = true)\n",
      " |-- Value_3: long (nullable = true)\n",
      " |-- Value_4: long (nullable = true)\n",
      "\n"
     ]
    }
   ],
   "execution_count": 27
  },
  {
   "metadata": {},
   "cell_type": "code",
   "outputs": [],
   "execution_count": null,
   "source": "",
   "id": "760332544961005f"
  }
 ],
 "metadata": {
  "kernelspec": {
   "display_name": "Python 3",
   "language": "python",
   "name": "python3"
  },
  "language_info": {
   "codemirror_mode": {
    "name": "ipython",
    "version": 2
   },
   "file_extension": ".py",
   "mimetype": "text/x-python",
   "name": "python",
   "nbconvert_exporter": "python",
   "pygments_lexer": "ipython2",
   "version": "2.7.6"
  }
 },
 "nbformat": 4,
 "nbformat_minor": 5
}
