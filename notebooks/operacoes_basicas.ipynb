{
 "cells": [
  {
   "metadata": {},
   "cell_type": "markdown",
   "source": "### Instalando a biblioteca Pyspark e Findspark",
   "id": "1b67becb5a0c44ea"
  },
  {
   "metadata": {
    "ExecuteTime": {
     "end_time": "2025-02-12T16:56:34.167809Z",
     "start_time": "2025-02-12T16:55:12.268615Z"
    }
   },
   "cell_type": "code",
   "source": "#!pip install pyspark",
   "id": "d7309a12efce770c",
   "outputs": [
    {
     "name": "stdout",
     "output_type": "stream",
     "text": [
      "Collecting pyspark"
     ]
    },
    {
     "name": "stderr",
     "output_type": "stream",
     "text": [
      "\n",
      "[notice] A new release of pip is available: 23.2.1 -> 25.0.1\n",
      "[notice] To update, run: python.exe -m pip install --upgrade pip\n"
     ]
    },
    {
     "name": "stdout",
     "output_type": "stream",
     "text": [
      "\n",
      "  Using cached pyspark-3.5.4-py2.py3-none-any.whl\n",
      "Collecting py4j==0.10.9.7 (from pyspark)\n",
      "  Obtaining dependency information for py4j==0.10.9.7 from https://files.pythonhosted.org/packages/10/30/a58b32568f1623aaad7db22aa9eafc4c6c194b429ff35bdc55ca2726da47/py4j-0.10.9.7-py2.py3-none-any.whl.metadata\n",
      "  Downloading py4j-0.10.9.7-py2.py3-none-any.whl.metadata (1.5 kB)\n",
      "Downloading py4j-0.10.9.7-py2.py3-none-any.whl (200 kB)\n",
      "   ---------------------------------------- 0.0/200.5 kB ? eta -:--:--\n",
      "   -------------------------------------- - 194.6/200.5 kB ? eta -:--:--\n",
      "   ---------------------------------------- 200.5/200.5 kB 3.0 MB/s eta 0:00:00\n",
      "Installing collected packages: py4j, pyspark\n",
      "Successfully installed py4j-0.10.9.7 pyspark-3.5.4\n"
     ]
    }
   ],
   "execution_count": 1
  },
  {
   "metadata": {
    "ExecuteTime": {
     "end_time": "2025-02-12T16:56:50.519213Z",
     "start_time": "2025-02-12T16:56:41.273899Z"
    }
   },
   "cell_type": "code",
   "source": "#!pip install findspark",
   "id": "7d22a60b6a115225",
   "outputs": [
    {
     "name": "stdout",
     "output_type": "stream",
     "text": [
      "Collecting findspark\n",
      "  Obtaining dependency information for findspark from https://files.pythonhosted.org/packages/a4/cb/7d2bb508f4ca00a043fd53e8156c11767799d3f534bf451a0942211d5def/findspark-2.0.1-py2.py3-none-any.whl.metadata\n",
      "  Downloading findspark-2.0.1-py2.py3-none-any.whl.metadata (352 bytes)\n",
      "Downloading findspark-2.0.1-py2.py3-none-any.whl (4.4 kB)\n",
      "Installing collected packages: findspark\n",
      "Successfully installed findspark-2.0.1\n"
     ]
    },
    {
     "name": "stderr",
     "output_type": "stream",
     "text": [
      "\n",
      "[notice] A new release of pip is available: 23.2.1 -> 25.0.1\n",
      "[notice] To update, run: python.exe -m pip install --upgrade pip\n"
     ]
    }
   ],
   "execution_count": 2
  },
  {
   "metadata": {},
   "cell_type": "markdown",
   "source": "### Importando Pyspark - iniciando FindSpark",
   "id": "582a2fcbd9196d77"
  },
  {
   "metadata": {
    "ExecuteTime": {
     "end_time": "2025-02-12T16:58:35.084581Z",
     "start_time": "2025-02-12T16:58:24.006144Z"
    }
   },
   "cell_type": "code",
   "source": [
    "import findspark\n",
    "findspark.init()\n",
    "from pyspark.sql import SparkSession\n",
    "spark = SparkSession.builder.master(\"local[*]\").getOrCreate()"
   ],
   "id": "b85e2829b867a7a0",
   "outputs": [],
   "execution_count": 4
  },
  {
   "metadata": {
    "ExecuteTime": {
     "end_time": "2025-02-12T16:59:01.643059Z",
     "start_time": "2025-02-12T16:58:56.961131Z"
    }
   },
   "cell_type": "code",
   "source": [
    "df = spark.sql(\"\"\"select 'sucesso total estamos online!' as hello\"\"\")\n",
    "df.show()"
   ],
   "id": "1e70f7349a18af72",
   "outputs": [
    {
     "name": "stdout",
     "output_type": "stream",
     "text": [
      "+--------------------+\n",
      "|               hello|\n",
      "+--------------------+\n",
      "|sucesso total est...|\n",
      "+--------------------+\n",
      "\n"
     ]
    }
   ],
   "execution_count": 5
  },
  {
   "metadata": {},
   "cell_type": "markdown",
   "source": "### Importando funções especitficas para tratamento de dados",
   "id": "3055bd72808a8db8"
  },
  {
   "metadata": {
    "ExecuteTime": {
     "end_time": "2025-02-12T17:00:50.557729Z",
     "start_time": "2025-02-12T17:00:50.552324Z"
    }
   },
   "cell_type": "code",
   "source": [
    "from pyspark.sql import Row, DataFrame\n",
    "from pyspark.sql.types import StructType, StructField, StringType, IntegerType\n",
    "from pyspark.sql.functions import col, expr, lit, substring, concat, concat_ws, when, coalesce\n",
    "from pyspark.sql import functions as F\n",
    "from functools import reduce"
   ],
   "id": "7bb8a416b51f89a6",
   "outputs": [],
   "execution_count": 8
  },
  {
   "metadata": {
    "ExecuteTime": {
     "end_time": "2025-02-12T17:01:51.159707Z",
     "start_time": "2025-02-12T17:01:48.292566Z"
    }
   },
   "cell_type": "code",
   "source": [
    "from os import sep\n",
    "df = spark.read.csv('banklist.csv', sep= ',', inferSchema=True, header=True)\n",
    "\n",
    "print('df.count', df.count())\n",
    "print('df.columns', df.columns)\n",
    "print(\"df.lens\", len(df.columns))"
   ],
   "id": "904c58d24f1ba44f",
   "outputs": [
    {
     "name": "stdout",
     "output_type": "stream",
     "text": [
      "df.count 561\n",
      "df.columns ['Bank Name', 'City', 'ST', 'CERT', 'Acquiring Institution', 'Closing Date']\n",
      "df.lens 6\n"
     ]
    }
   ],
   "execution_count": 10
  },
  {
   "metadata": {},
   "cell_type": "markdown",
   "source": "### Usando SQL no Spark",
   "id": "abbda83ac749dc01"
  },
  {
   "metadata": {
    "ExecuteTime": {
     "end_time": "2025-02-12T17:02:22.862778Z",
     "start_time": "2025-02-12T17:02:22.458918Z"
    }
   },
   "cell_type": "code",
   "source": [
    "df.createOrReplaceTempView('banklist')\n",
    "df_check = spark.sql('''select `Bank Name`, City, `Closing Date` from banklist''')\n",
    "df_check.show(10)"
   ],
   "id": "d4d922828340d059",
   "outputs": [
    {
     "name": "stdout",
     "output_type": "stream",
     "text": [
      "+--------------------+-------------+------------+\n",
      "|           Bank Name|         City|Closing Date|\n",
      "+--------------------+-------------+------------+\n",
      "|The First State Bank|Barboursville|    3-Apr-20|\n",
      "|  Ericson State Bank|      Ericson|   14-Feb-20|\n",
      "|City National Ban...|       Newark|    1-Nov-19|\n",
      "|       Resolute Bank|       Maumee|   25-Oct-19|\n",
      "|Louisa Community ...|       Louisa|   25-Oct-19|\n",
      "|The Enloe State Bank|       Cooper|   31-May-19|\n",
      "|Washington Federa...|      Chicago|   15-Dec-17|\n",
      "|The Farmers and M...|      Argonia|   13-Oct-17|\n",
      "| Fayette County Bank|   Saint Elmo|   26-May-17|\n",
      "|Guaranty Bank, (d...|    Milwaukee|    5-May-17|\n",
      "+--------------------+-------------+------------+\n",
      "only showing top 10 rows\n",
      "\n"
     ]
    }
   ],
   "execution_count": 11
  },
  {
   "metadata": {
    "ExecuteTime": {
     "end_time": "2025-02-12T17:02:51.081443Z",
     "start_time": "2025-02-12T17:02:49.766164Z"
    }
   },
   "cell_type": "code",
   "source": "df.describe().show()",
   "id": "903e1d65ae9abea",
   "outputs": [
    {
     "name": "stdout",
     "output_type": "stream",
     "text": [
      "+-------+--------------------+-------+----+-----------------+---------------------+------------+\n",
      "|summary|           Bank Name|   City|  ST|             CERT|Acquiring Institution|Closing Date|\n",
      "+-------+--------------------+-------+----+-----------------+---------------------+------------+\n",
      "|  count|                 561|    561| 561|              561|                  561|         561|\n",
      "|   mean|                NULL|   NULL|NULL|31685.68449197861|                 NULL|        NULL|\n",
      "| stddev|                NULL|   NULL|NULL|16446.65659309965|                 NULL|        NULL|\n",
      "|    min|1st American Stat...|Acworth|  AL|               91|      1st United Bank|    1-Aug-08|\n",
      "|    max|               ebank|Wyoming|  WY|            58701|  Your Community Bank|    9-Sep-11|\n",
      "+-------+--------------------+-------+----+-----------------+---------------------+------------+\n",
      "\n"
     ]
    }
   ],
   "execution_count": 12
  },
  {
   "metadata": {
    "ExecuteTime": {
     "end_time": "2025-02-12T17:02:57.804979Z",
     "start_time": "2025-02-12T17:02:57.182541Z"
    }
   },
   "cell_type": "code",
   "source": "df.describe('City', 'ST').show()",
   "id": "cb74ca127828fca4",
   "outputs": [
    {
     "name": "stdout",
     "output_type": "stream",
     "text": [
      "+-------+-------+----+\n",
      "|summary|   City|  ST|\n",
      "+-------+-------+----+\n",
      "|  count|    561| 561|\n",
      "|   mean|   NULL|NULL|\n",
      "| stddev|   NULL|NULL|\n",
      "|    min|Acworth|  AL|\n",
      "|    max|Wyoming|  WY|\n",
      "+-------+-------+----+\n",
      "\n"
     ]
    }
   ],
   "execution_count": 13
  },
  {
   "metadata": {},
   "cell_type": "markdown",
   "source": "### Usando funções Count , colunms e Schema",
   "id": "4ec96f251d42c01d"
  },
  {
   "metadata": {
    "ExecuteTime": {
     "end_time": "2025-02-12T17:03:19.723634Z",
     "start_time": "2025-02-12T17:03:19.510764Z"
    }
   },
   "cell_type": "code",
   "source": [
    "print('Total de linhas:' , df.count())\n",
    "print('Total de colunas:', len(df.columns))\n",
    "print('colunas:', df.columns)\n",
    "print('Tipos de dados:', df.dtypes)\n",
    "print()\n",
    "print('Schema:', df.printSchema())"
   ],
   "id": "faef9fb1fa1860af",
   "outputs": [
    {
     "name": "stdout",
     "output_type": "stream",
     "text": [
      "Total de linhas: 561\n",
      "Total de colunas: 6\n",
      "colunas: ['Bank Name', 'City', 'ST', 'CERT', 'Acquiring Institution', 'Closing Date']\n",
      "Tipos de dados: [('Bank Name', 'string'), ('City', 'string'), ('ST', 'string'), ('CERT', 'int'), ('Acquiring Institution', 'string'), ('Closing Date', 'string')]\n",
      "\n",
      "root\n",
      " |-- Bank Name: string (nullable = true)\n",
      " |-- City: string (nullable = true)\n",
      " |-- ST: string (nullable = true)\n",
      " |-- CERT: integer (nullable = true)\n",
      " |-- Acquiring Institution: string (nullable = true)\n",
      " |-- Closing Date: string (nullable = true)\n",
      "\n",
      "Schema: None\n"
     ]
    }
   ],
   "execution_count": 14
  },
  {
   "metadata": {
    "ExecuteTime": {
     "end_time": "2025-02-12T17:03:47.634550Z",
     "start_time": "2025-02-12T17:03:47.490761Z"
    }
   },
   "cell_type": "code",
   "source": [
    "df.dropDuplicates()\n",
    "print('Total de linhas:', df.count())\n",
    "print('Total de colunas:', len(df.columns))"
   ],
   "id": "6138714826d142fd",
   "outputs": [
    {
     "name": "stdout",
     "output_type": "stream",
     "text": [
      "Total de linhas: 561\n",
      "Total de colunas: 6\n"
     ]
    }
   ],
   "execution_count": 15
  },
  {
   "metadata": {
    "ExecuteTime": {
     "end_time": "2025-02-12T17:03:56.062339Z",
     "start_time": "2025-02-12T17:03:55.898718Z"
    }
   },
   "cell_type": "code",
   "source": [
    "df2 = df.select('Bank Name', 'City')\n",
    "df2.show(5)"
   ],
   "id": "c81c24382b62d718",
   "outputs": [
    {
     "name": "stdout",
     "output_type": "stream",
     "text": [
      "+--------------------+-------------+\n",
      "|           Bank Name|         City|\n",
      "+--------------------+-------------+\n",
      "|The First State Bank|Barboursville|\n",
      "|  Ericson State Bank|      Ericson|\n",
      "|City National Ban...|       Newark|\n",
      "|       Resolute Bank|       Maumee|\n",
      "|Louisa Community ...|       Louisa|\n",
      "+--------------------+-------------+\n",
      "only showing top 5 rows\n",
      "\n"
     ]
    }
   ],
   "execution_count": 16
  },
  {
   "metadata": {},
   "cell_type": "markdown",
   "source": "### Removendo colunas",
   "id": "ee19e071fc838c13"
  },
  {
   "metadata": {
    "ExecuteTime": {
     "end_time": "2025-02-12T17:04:28.027604Z",
     "start_time": "2025-02-12T17:04:27.910473Z"
    }
   },
   "cell_type": "code",
   "source": [
    "col_1 = list(set(df.columns) - {'CERT','ST'})\n",
    "df2 = df.select(col_1)\n",
    "df2.show(5)"
   ],
   "id": "4a686a1fe264d34c",
   "outputs": [
    {
     "name": "stdout",
     "output_type": "stream",
     "text": [
      "+-------------+---------------------+------------+--------------------+\n",
      "|         City|Acquiring Institution|Closing Date|           Bank Name|\n",
      "+-------------+---------------------+------------+--------------------+\n",
      "|Barboursville|       MVB Bank, Inc.|    3-Apr-20|The First State Bank|\n",
      "|      Ericson| Farmers and Merch...|   14-Feb-20|  Ericson State Bank|\n",
      "|       Newark|      Industrial Bank|    1-Nov-19|City National Ban...|\n",
      "|       Maumee|   Buckeye State Bank|   25-Oct-19|       Resolute Bank|\n",
      "|       Louisa| Kentucky Farmers ...|   25-Oct-19|Louisa Community ...|\n",
      "+-------------+---------------------+------------+--------------------+\n",
      "only showing top 5 rows\n",
      "\n"
     ]
    }
   ],
   "execution_count": 17
  },
  {
   "metadata": {},
   "cell_type": "markdown",
   "source": "### Renomeando Colunas",
   "id": "f14fa70829eef9fd"
  },
  {
   "metadata": {
    "ExecuteTime": {
     "end_time": "2025-02-12T17:04:38.109475Z",
     "start_time": "2025-02-12T17:04:37.918567Z"
    }
   },
   "cell_type": "code",
   "source": [
    "df2 = df \\\n",
    "  .withColumnRenamed('Bank Name', 'nome_do_Banco') \\\n",
    "  .withColumnRenamed('City', 'cidade') \\\n",
    "  .withColumnRenamed('ST', 'estado') \\\n",
    "  .withColumnRenamed('Address', 'endereço') \\\n",
    "  .withColumnRenamed('Closing Date', 'data_de_fechamento') \\\n",
    "  .withColumnRenamed('Acquiring Institution', 'instituição_de_acquirência') \\\n",
    "  .withColumnRenamed('CERT', 'cert')\n",
    "\n",
    "df2.show(5)"
   ],
   "id": "44bed5481963343a",
   "outputs": [
    {
     "name": "stdout",
     "output_type": "stream",
     "text": [
      "+--------------------+-------------+------+-----+--------------------------+------------------+\n",
      "|       nome_do_Banco|       cidade|estado| cert|instituição_de_acquirência|data_de_fechamento|\n",
      "+--------------------+-------------+------+-----+--------------------------+------------------+\n",
      "|The First State Bank|Barboursville|    WV|14361|            MVB Bank, Inc.|          3-Apr-20|\n",
      "|  Ericson State Bank|      Ericson|    NE|18265|      Farmers and Merch...|         14-Feb-20|\n",
      "|City National Ban...|       Newark|    NJ|21111|           Industrial Bank|          1-Nov-19|\n",
      "|       Resolute Bank|       Maumee|    OH|58317|        Buckeye State Bank|         25-Oct-19|\n",
      "|Louisa Community ...|       Louisa|    KY|58112|      Kentucky Farmers ...|         25-Oct-19|\n",
      "+--------------------+-------------+------+-----+--------------------------+------------------+\n",
      "only showing top 5 rows\n",
      "\n"
     ]
    }
   ],
   "execution_count": 18
  },
  {
   "metadata": {},
   "cell_type": "markdown",
   "source": [
    "\n",
    "### Adiciona Colunas"
   ],
   "id": "a18326e67e80f233"
  },
  {
   "metadata": {
    "ExecuteTime": {
     "end_time": "2025-02-12T17:05:00.390399Z",
     "start_time": "2025-02-12T17:05:00.250662Z"
    }
   },
   "cell_type": "code",
   "source": [
    "df2 = df.withColumn('state', col('ST'))\n",
    "df2.show(5)"
   ],
   "id": "a03992b1f4e8b5cc",
   "outputs": [
    {
     "name": "stdout",
     "output_type": "stream",
     "text": [
      "+--------------------+-------------+---+-----+---------------------+------------+-----+\n",
      "|           Bank Name|         City| ST| CERT|Acquiring Institution|Closing Date|state|\n",
      "+--------------------+-------------+---+-----+---------------------+------------+-----+\n",
      "|The First State Bank|Barboursville| WV|14361|       MVB Bank, Inc.|    3-Apr-20|   WV|\n",
      "|  Ericson State Bank|      Ericson| NE|18265| Farmers and Merch...|   14-Feb-20|   NE|\n",
      "|City National Ban...|       Newark| NJ|21111|      Industrial Bank|    1-Nov-19|   NJ|\n",
      "|       Resolute Bank|       Maumee| OH|58317|   Buckeye State Bank|   25-Oct-19|   OH|\n",
      "|Louisa Community ...|       Louisa| KY|58112| Kentucky Farmers ...|   25-Oct-19|   KY|\n",
      "+--------------------+-------------+---+-----+---------------------+------------+-----+\n",
      "only showing top 5 rows\n",
      "\n"
     ]
    }
   ],
   "execution_count": 19
  },
  {
   "metadata": {},
   "cell_type": "markdown",
   "source": [
    "### Adicionar uma coluna constante\n",
    "Coluna com valor fixo"
   ],
   "id": "4123022318a6c1e1"
  },
  {
   "metadata": {
    "ExecuteTime": {
     "end_time": "2025-02-12T17:05:28.462912Z",
     "start_time": "2025-02-12T17:05:28.313668Z"
    }
   },
   "cell_type": "code",
   "source": [
    "df2 = df.withColumn('country', lit('US'))\n",
    "df2.show(5)"
   ],
   "id": "a4a0e3576e9c013d",
   "outputs": [
    {
     "name": "stdout",
     "output_type": "stream",
     "text": [
      "+--------------------+-------------+---+-----+---------------------+------------+-------+\n",
      "|           Bank Name|         City| ST| CERT|Acquiring Institution|Closing Date|country|\n",
      "+--------------------+-------------+---+-----+---------------------+------------+-------+\n",
      "|The First State Bank|Barboursville| WV|14361|       MVB Bank, Inc.|    3-Apr-20|     US|\n",
      "|  Ericson State Bank|      Ericson| NE|18265| Farmers and Merch...|   14-Feb-20|     US|\n",
      "|City National Ban...|       Newark| NJ|21111|      Industrial Bank|    1-Nov-19|     US|\n",
      "|       Resolute Bank|       Maumee| OH|58317|   Buckeye State Bank|   25-Oct-19|     US|\n",
      "|Louisa Community ...|       Louisa| KY|58112| Kentucky Farmers ...|   25-Oct-19|     US|\n",
      "+--------------------+-------------+---+-----+---------------------+------------+-------+\n",
      "only showing top 5 rows\n",
      "\n"
     ]
    }
   ],
   "execution_count": 20
  },
  {
   "metadata": {},
   "cell_type": "markdown",
   "source": "### Remover uma coluna",
   "id": "a4de312ca1015a2d"
  },
  {
   "metadata": {
    "ExecuteTime": {
     "end_time": "2025-02-12T17:05:48.878714Z",
     "start_time": "2025-02-12T17:05:48.726319Z"
    }
   },
   "cell_type": "code",
   "source": [
    "df2 = df.drop('CERT')\n",
    "df2.show(5)"
   ],
   "id": "b053db98188c1df",
   "outputs": [
    {
     "name": "stdout",
     "output_type": "stream",
     "text": [
      "+--------------------+-------------+---+---------------------+------------+\n",
      "|           Bank Name|         City| ST|Acquiring Institution|Closing Date|\n",
      "+--------------------+-------------+---+---------------------+------------+\n",
      "|The First State Bank|Barboursville| WV|       MVB Bank, Inc.|    3-Apr-20|\n",
      "|  Ericson State Bank|      Ericson| NE| Farmers and Merch...|   14-Feb-20|\n",
      "|City National Ban...|       Newark| NJ|      Industrial Bank|    1-Nov-19|\n",
      "|       Resolute Bank|       Maumee| OH|   Buckeye State Bank|   25-Oct-19|\n",
      "|Louisa Community ...|       Louisa| KY| Kentucky Farmers ...|   25-Oct-19|\n",
      "+--------------------+-------------+---+---------------------+------------+\n",
      "only showing top 5 rows\n",
      "\n"
     ]
    }
   ],
   "execution_count": 21
  },
  {
   "metadata": {
    "ExecuteTime": {
     "end_time": "2025-02-12T17:05:57.400523Z",
     "start_time": "2025-02-12T17:05:57.260859Z"
    }
   },
   "cell_type": "code",
   "source": [
    "df2 = reduce(DataFrame.drop, ['ST', 'Address'], df)\n",
    "df2.show(5)"
   ],
   "id": "33df2dc00f522c40",
   "outputs": [
    {
     "name": "stdout",
     "output_type": "stream",
     "text": [
      "+--------------------+-------------+-----+---------------------+------------+\n",
      "|           Bank Name|         City| CERT|Acquiring Institution|Closing Date|\n",
      "+--------------------+-------------+-----+---------------------+------------+\n",
      "|The First State Bank|Barboursville|14361|       MVB Bank, Inc.|    3-Apr-20|\n",
      "|  Ericson State Bank|      Ericson|18265| Farmers and Merch...|   14-Feb-20|\n",
      "|City National Ban...|       Newark|21111|      Industrial Bank|    1-Nov-19|\n",
      "|       Resolute Bank|       Maumee|58317|   Buckeye State Bank|   25-Oct-19|\n",
      "|Louisa Community ...|       Louisa|58112| Kentucky Farmers ...|   25-Oct-19|\n",
      "+--------------------+-------------+-----+---------------------+------------+\n",
      "only showing top 5 rows\n",
      "\n"
     ]
    }
   ],
   "execution_count": 22
  },
  {
   "metadata": {},
   "cell_type": "markdown",
   "source": "### Filter data",
   "id": "4cd48f9985514622"
  },
  {
   "metadata": {
    "ExecuteTime": {
     "end_time": "2025-02-12T17:06:16.263474Z",
     "start_time": "2025-02-12T17:06:15.325192Z"
    }
   },
   "cell_type": "code",
   "source": [
    "# Valores iguais\n",
    "df2 = df.where(col('ST') == 'NE')\n",
    "\n",
    "# Valores entre \"Between\"\n",
    "df3 = df.where(df['CERT'].between('1000', '2000'))\n",
    "\n",
    "# está dentro de varios valores \"isin\"\n",
    "\n",
    "df4 = df.where(df['ST'].isin('NE', 'IL'))\n",
    "\n",
    "print('df.count', df.count())\n",
    "print('df2.count', df2.count())\n",
    "print('df3.count', df3.count())\n",
    "print('df4.count', df4.count())"
   ],
   "id": "c57f92f03bb1202e",
   "outputs": [
    {
     "name": "stdout",
     "output_type": "stream",
     "text": [
      "df.count 561\n",
      "df2.count 4\n",
      "df3.count 9\n",
      "df4.count 73\n"
     ]
    }
   ],
   "execution_count": 23
  },
  {
   "metadata": {},
   "cell_type": "markdown",
   "source": "### Filtros com operadores lógicos",
   "id": "9a4190b94234ca80"
  },
  {
   "metadata": {
    "ExecuteTime": {
     "end_time": "2025-02-12T17:06:38.968Z",
     "start_time": "2025-02-12T17:06:38.834066Z"
    }
   },
   "cell_type": "code",
   "source": [
    "df2 = df.where((df['ST'] == 'NE') & (df['City'] == 'Ericson'))\n",
    "df2.show(5)"
   ],
   "id": "9e3617ff55b89df9",
   "outputs": [
    {
     "name": "stdout",
     "output_type": "stream",
     "text": [
      "+------------------+-------+---+-----+---------------------+------------+\n",
      "|         Bank Name|   City| ST| CERT|Acquiring Institution|Closing Date|\n",
      "+------------------+-------+---+-----+---------------------+------------+\n",
      "|Ericson State Bank|Ericson| NE|18265| Farmers and Merch...|   14-Feb-20|\n",
      "+------------------+-------+---+-----+---------------------+------------+\n",
      "\n"
     ]
    }
   ],
   "execution_count": 24
  },
  {
   "metadata": {},
   "cell_type": "markdown",
   "source": "### Replace values in DataFrame",
   "id": "3bfbfc2abd5d4242"
  },
  {
   "metadata": {
    "ExecuteTime": {
     "end_time": "2025-02-12T17:06:58.547402Z",
     "start_time": "2025-02-12T17:06:58.343546Z"
    }
   },
   "cell_type": "code",
   "source": [
    "df.show(2)\n",
    "\n",
    "print('Replace 7 in the above dataframe with 17 at all instance')\n",
    "df.na.replace(7, 17).show(2)"
   ],
   "id": "2da79c7e613e2199",
   "outputs": [
    {
     "name": "stdout",
     "output_type": "stream",
     "text": [
      "+--------------------+-------------+---+-----+---------------------+------------+\n",
      "|           Bank Name|         City| ST| CERT|Acquiring Institution|Closing Date|\n",
      "+--------------------+-------------+---+-----+---------------------+------------+\n",
      "|The First State Bank|Barboursville| WV|14361|       MVB Bank, Inc.|    3-Apr-20|\n",
      "|  Ericson State Bank|      Ericson| NE|18265| Farmers and Merch...|   14-Feb-20|\n",
      "+--------------------+-------------+---+-----+---------------------+------------+\n",
      "only showing top 2 rows\n",
      "\n",
      "Replace 7 in the above dataframe with 17 at all instance\n",
      "+--------------------+-------------+---+-----+---------------------+------------+\n",
      "|           Bank Name|         City| ST| CERT|Acquiring Institution|Closing Date|\n",
      "+--------------------+-------------+---+-----+---------------------+------------+\n",
      "|The First State Bank|Barboursville| WV|14361|       MVB Bank, Inc.|    3-Apr-20|\n",
      "|  Ericson State Bank|      Ericson| NE|18265| Farmers and Merch...|   14-Feb-20|\n",
      "+--------------------+-------------+---+-----+---------------------+------------+\n",
      "only showing top 2 rows\n",
      "\n"
     ]
    }
   ],
   "execution_count": 25
  },
  {
   "metadata": {},
   "cell_type": "code",
   "outputs": [],
   "execution_count": null,
   "source": "",
   "id": "47368474e92ba85d"
  }
 ],
 "metadata": {
  "kernelspec": {
   "display_name": "Python 3",
   "language": "python",
   "name": "python3"
  },
  "language_info": {
   "codemirror_mode": {
    "name": "ipython",
    "version": 2
   },
   "file_extension": ".py",
   "mimetype": "text/x-python",
   "name": "python",
   "nbconvert_exporter": "python",
   "pygments_lexer": "ipython2",
   "version": "2.7.6"
  }
 },
 "nbformat": 4,
 "nbformat_minor": 5
}
