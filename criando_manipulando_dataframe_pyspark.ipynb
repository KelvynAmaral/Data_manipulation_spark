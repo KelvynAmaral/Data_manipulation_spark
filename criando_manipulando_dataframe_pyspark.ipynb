{
 "cells": [
  {
   "metadata": {},
   "cell_type": "markdown",
   "source": "### Criando e manipulando DataFrames com PySpark",
   "id": "d049644a2236366d"
  },
  {
   "metadata": {
    "ExecuteTime": {
     "end_time": "2025-02-16T13:20:48.081064Z",
     "start_time": "2025-02-16T13:20:41.192402Z"
    }
   },
   "cell_type": "code",
   "source": [
    "from pyspark.sql import SparkSession\n",
    "spark = SparkSession.builder.master(\"local[*]\").getOrCreate()"
   ],
   "id": "f5049e75978eecbf",
   "outputs": [],
   "execution_count": 1
  },
  {
   "metadata": {},
   "cell_type": "markdown",
   "source": "### import data",
   "id": "809e8a538298ff7c"
  },
  {
   "metadata": {
    "ExecuteTime": {
     "end_time": "2025-02-16T13:20:54.947857Z",
     "start_time": "2025-02-16T13:20:48.104443Z"
    }
   },
   "cell_type": "code",
   "source": "dados = spark.read.csv('cereal.csv', sep= ',', inferSchema=True, header=True)",
   "id": "48dc036e935b2e19",
   "outputs": [],
   "execution_count": 2
  },
  {
   "metadata": {
    "ExecuteTime": {
     "end_time": "2025-02-16T13:20:55.858774Z",
     "start_time": "2025-02-16T13:20:55.334168Z"
    }
   },
   "cell_type": "code",
   "source": "dados.show(5)",
   "id": "decf7c41746c7208",
   "outputs": [
    {
     "name": "stdout",
     "output_type": "stream",
     "text": [
      "+--------------------+---+----+--------+-------+---+------+-----+-----+------+------+--------+-----+------+----+---------+\n",
      "|                name|mfr|type|calories|protein|fat|sodium|fiber|carbo|sugars|potass|vitamins|shelf|weight|cups|   rating|\n",
      "+--------------------+---+----+--------+-------+---+------+-----+-----+------+------+--------+-----+------+----+---------+\n",
      "|           100% Bran|  N|   C|      70|      4|  1|   130| 10.0|  5.0|     6|   280|      25|    3|   1.0|0.33|68.402973|\n",
      "|   100% Natural Bran|  Q|   C|     120|      3|  5|    15|  2.0|  8.0|     8|   135|       0|    3|   1.0| 1.0|33.983679|\n",
      "|            All-Bran|  K|   C|      70|      4|  1|   260|  9.0|  7.0|     5|   320|      25|    3|   1.0|0.33|59.425505|\n",
      "|All-Bran with Ext...|  K|   C|      50|      4|  0|   140| 14.0|  8.0|     0|   330|      25|    3|   1.0| 0.5|93.704912|\n",
      "|      Almond Delight|  R|   C|     110|      2|  2|   200|  1.0| 14.0|     8|    -1|      25|    3|   1.0|0.75|34.384843|\n",
      "+--------------------+---+----+--------+-------+---+------+-----+-----+------+------+--------+-----+------+----+---------+\n",
      "only showing top 5 rows\n",
      "\n"
     ]
    }
   ],
   "execution_count": 3
  },
  {
   "metadata": {},
   "cell_type": "markdown",
   "source": "### Reading the schema",
   "id": "896fed13c9e3ecdd"
  },
  {
   "metadata": {
    "ExecuteTime": {
     "end_time": "2025-02-16T13:20:55.889446Z",
     "start_time": "2025-02-16T13:20:55.878947Z"
    }
   },
   "cell_type": "code",
   "source": "dados.printSchema()",
   "id": "369bc96fdc3d29dd",
   "outputs": [
    {
     "name": "stdout",
     "output_type": "stream",
     "text": [
      "root\n",
      " |-- name: string (nullable = true)\n",
      " |-- mfr: string (nullable = true)\n",
      " |-- type: string (nullable = true)\n",
      " |-- calories: integer (nullable = true)\n",
      " |-- protein: integer (nullable = true)\n",
      " |-- fat: integer (nullable = true)\n",
      " |-- sodium: integer (nullable = true)\n",
      " |-- fiber: double (nullable = true)\n",
      " |-- carbo: double (nullable = true)\n",
      " |-- sugars: integer (nullable = true)\n",
      " |-- potass: integer (nullable = true)\n",
      " |-- vitamins: integer (nullable = true)\n",
      " |-- shelf: integer (nullable = true)\n",
      " |-- weight: double (nullable = true)\n",
      " |-- cups: double (nullable = true)\n",
      " |-- rating: double (nullable = true)\n",
      "\n"
     ]
    }
   ],
   "execution_count": 4
  },
  {
   "metadata": {},
   "cell_type": "markdown",
   "source": "### Selecting columns",
   "id": "4f41083d2e6cb6aa"
  },
  {
   "metadata": {
    "ExecuteTime": {
     "end_time": "2025-02-16T13:20:56.423951Z",
     "start_time": "2025-02-16T13:20:56.097564Z"
    }
   },
   "cell_type": "code",
   "source": "dados.select('name', 'mfr', 'rating').show(5)",
   "id": "4fd5117c0e626be0",
   "outputs": [
    {
     "name": "stdout",
     "output_type": "stream",
     "text": [
      "+--------------------+---+---------+\n",
      "|                name|mfr|   rating|\n",
      "+--------------------+---+---------+\n",
      "|           100% Bran|  N|68.402973|\n",
      "|   100% Natural Bran|  Q|33.983679|\n",
      "|            All-Bran|  K|59.425505|\n",
      "|All-Bran with Ext...|  K|93.704912|\n",
      "|      Almond Delight|  R|34.384843|\n",
      "+--------------------+---+---------+\n",
      "only showing top 5 rows\n",
      "\n"
     ]
    }
   ],
   "execution_count": 5
  },
  {
   "metadata": {},
   "cell_type": "markdown",
   "source": [
    "### Cast\n",
    "Trocando o tipo de dados de uma coluna"
   ],
   "id": "99584a3f083fafed"
  },
  {
   "metadata": {
    "ExecuteTime": {
     "end_time": "2025-02-16T13:20:56.548082Z",
     "start_time": "2025-02-16T13:20:56.485259Z"
    }
   },
   "cell_type": "code",
   "source": "dados.withColumn('Calories', dados['calories'].cast(\"integer\")).printSchema()",
   "id": "6e5020002671c13d",
   "outputs": [
    {
     "name": "stdout",
     "output_type": "stream",
     "text": [
      "root\n",
      " |-- name: string (nullable = true)\n",
      " |-- mfr: string (nullable = true)\n",
      " |-- type: string (nullable = true)\n",
      " |-- Calories: integer (nullable = true)\n",
      " |-- protein: integer (nullable = true)\n",
      " |-- fat: integer (nullable = true)\n",
      " |-- sodium: integer (nullable = true)\n",
      " |-- fiber: double (nullable = true)\n",
      " |-- carbo: double (nullable = true)\n",
      " |-- sugars: integer (nullable = true)\n",
      " |-- potass: integer (nullable = true)\n",
      " |-- vitamins: integer (nullable = true)\n",
      " |-- shelf: integer (nullable = true)\n",
      " |-- weight: double (nullable = true)\n",
      " |-- cups: double (nullable = true)\n",
      " |-- rating: double (nullable = true)\n",
      "\n"
     ]
    }
   ],
   "execution_count": 6
  },
  {
   "metadata": {},
   "cell_type": "markdown",
   "source": [
    "### groupBy e count\n",
    " Agrupando e contando valores - groupBy e count -> Funções"
   ],
   "id": "e29c381d6c0537d0"
  },
  {
   "metadata": {
    "ExecuteTime": {
     "end_time": "2025-02-16T13:20:58.351441Z",
     "start_time": "2025-02-16T13:20:56.710972Z"
    }
   },
   "cell_type": "code",
   "source": "dados.groupBy('name', 'calories').count().show()",
   "id": "f6a645f3464201f7",
   "outputs": [
    {
     "name": "stdout",
     "output_type": "stream",
     "text": [
      "+--------------------+--------+-----+\n",
      "|                name|calories|count|\n",
      "+--------------------+--------+-----+\n",
      "|Just Right Fruit ...|     140|    1|\n",
      "|         Raisin Bran|     120|    1|\n",
      "|Shredded Wheat sp...|      90|    1|\n",
      "|           Corn Pops|     110|    1|\n",
      "|  Honey Nut Cheerios|     110|    1|\n",
      "|Muesli Raisins; D...|     150|    1|\n",
      "|      Fruity Pebbles|     110|    1|\n",
      "|           100% Bran|      70|    1|\n",
      "|       Fruitful Bran|     120|    1|\n",
      "|         Puffed Rice|      50|    1|\n",
      "|      Raisin Squares|      90|    1|\n",
      "|   Total Raisin Bran|     140|    1|\n",
      "|      Golden Grahams|     110|    1|\n",
      "|   Nutri-grain Wheat|      90|    1|\n",
      "|   100% Natural Bran|     120|    1|\n",
      "|Apple Cinnamon Ch...|     110|    1|\n",
      "|Mueslix Crispy Blend|     160|    1|\n",
      "|Shredded Wheat 'n...|      90|    1|\n",
      "|              Smacks|     110|    1|\n",
      "|      Quaker Oatmeal|     100|    1|\n",
      "+--------------------+--------+-----+\n",
      "only showing top 20 rows\n",
      "\n"
     ]
    }
   ],
   "execution_count": 7
  },
  {
   "metadata": {},
   "cell_type": "markdown",
   "source": [
    "### orderBy\n",
    "    Ordenando valores - orderBy -> Funções"
   ],
   "id": "5353208bc95236f9"
  },
  {
   "metadata": {
    "ExecuteTime": {
     "end_time": "2025-02-16T13:20:58.760551Z",
     "start_time": "2025-02-16T13:20:58.383243Z"
    }
   },
   "cell_type": "code",
   "source": "dados.orderBy('protein').show(10)",
   "id": "f1f31b7467f7fa64",
   "outputs": [
    {
     "name": "stdout",
     "output_type": "stream",
     "text": [
      "+--------------------+---+----+--------+-------+---+------+-----+-----+------+------+--------+-----+------+----+---------+\n",
      "|                name|mfr|type|calories|protein|fat|sodium|fiber|carbo|sugars|potass|vitamins|shelf|weight|cups|   rating|\n",
      "+--------------------+---+----+--------+-------+---+------+-----+-----+------+------+--------+-----+------+----+---------+\n",
      "|Cinnamon Toast Cr...|  G|   C|     120|      1|  3|   210|  0.0| 13.0|     9|    45|      25|    2|   1.0|0.75|19.823573|\n",
      "|        Cap'n'Crunch|  Q|   C|     120|      1|  2|   220|  0.0| 12.0|    12|    35|      25|    2|   1.0|0.75|18.042851|\n",
      "|         Cocoa Puffs|  G|   C|     110|      1|  1|   180|  0.0| 12.0|    13|    55|      25|    2|   1.0| 1.0|22.736446|\n",
      "|           Corn Pops|  K|   C|     110|      1|  0|    90|  1.0| 13.0|    12|    20|      25|    2|   1.0| 1.0|35.782791|\n",
      "|       Count Chocula|  G|   C|     110|      1|  1|   180|  0.0| 12.0|    13|    65|      25|    2|   1.0| 1.0|22.396513|\n",
      "|      Frosted Flakes|  K|   C|     110|      1|  0|   200|  1.0| 14.0|    11|    25|      25|    1|   1.0|0.75|31.435973|\n",
      "|      Fruity Pebbles|  P|   C|     110|      1|  1|   135|  0.0| 13.0|    12|    25|      25|    2|   1.0|0.75|28.025765|\n",
      "|      Golden Grahams|  G|   C|     110|      1|  1|   280|  0.0| 15.0|     9|    45|      25|    2|   1.0|0.75|23.804043|\n",
      "|    Honey Graham Ohs|  Q|   C|     120|      1|  2|   220|  1.0| 12.0|    11|    45|      25|    2|   1.0| 1.0|21.871292|\n",
      "|          Honey-comb|  P|   C|     110|      1|  0|   180|  0.0| 14.0|    11|    35|      25|    1|   1.0|1.33|28.742414|\n",
      "+--------------------+---+----+--------+-------+---+------+-----+-----+------+------+--------+-----+------+----+---------+\n",
      "only showing top 10 rows\n",
      "\n"
     ]
    }
   ],
   "execution_count": 8
  },
  {
   "metadata": {},
   "cell_type": "markdown",
   "source": [
    "### Case When\n",
    "    Criando uma nova coluna com base em condições - withColumn -> Funções"
   ],
   "id": "f0c677dc983c078e"
  },
  {
   "metadata": {
    "ExecuteTime": {
     "end_time": "2025-02-16T13:21:13.635100Z",
     "start_time": "2025-02-16T13:21:13.630157Z"
    }
   },
   "cell_type": "code",
   "source": "from pyspark.sql.functions import when",
   "id": "efdec689b82ce884",
   "outputs": [],
   "execution_count": 10
  },
  {
   "metadata": {
    "ExecuteTime": {
     "end_time": "2025-02-16T13:27:32.411881Z",
     "start_time": "2025-02-16T13:27:32.254930Z"
    }
   },
   "cell_type": "code",
   "source": "dados.select('name', dados.vitamins, when(dados.vitamins >= 25 , 'rico em vitaminas')).show(2)",
   "id": "30de6c5a467e5faf",
   "outputs": [
    {
     "name": "stdout",
     "output_type": "stream",
     "text": [
      "+-----------------+--------+-----------------------------------------------------+\n",
      "|             name|vitamins|CASE WHEN (vitamins >= 25) THEN rico em vitaminas END|\n",
      "+-----------------+--------+-----------------------------------------------------+\n",
      "|        100% Bran|      25|                                    rico em vitaminas|\n",
      "|100% Natural Bran|       0|                                                 NULL|\n",
      "+-----------------+--------+-----------------------------------------------------+\n",
      "only showing top 2 rows\n",
      "\n"
     ]
    }
   ],
   "execution_count": 15
  },
  {
   "metadata": {},
   "cell_type": "markdown",
   "source": [
    "### Filter\n",
    "    Filtrando valores - filter -> Funções"
   ],
   "id": "117e88ea26e29bd"
  },
  {
   "metadata": {
    "ExecuteTime": {
     "end_time": "2025-02-16T13:28:37.437858Z",
     "start_time": "2025-02-16T13:28:37.168079Z"
    }
   },
   "cell_type": "code",
   "source": "dados.filter(dados.calories == 100).show(5)",
   "id": "87a5ef5d06139448",
   "outputs": [
    {
     "name": "stdout",
     "output_type": "stream",
     "text": [
      "+--------------------+---+----+--------+-------+---+------+-----+-----+------+------+--------+-----+------+----+---------+\n",
      "|                name|mfr|type|calories|protein|fat|sodium|fiber|carbo|sugars|potass|vitamins|shelf|weight|cups|   rating|\n",
      "+--------------------+---+----+--------+-------+---+------+-----+-----+------+------+--------+-----+------+----+---------+\n",
      "|   100% Natural Bran|  Q|   C|     120|      3|  5|    15|  2.0|  8.0|     8|   135|       0|    3|   1.0| 1.0|33.983679|\n",
      "|      Almond Delight|  R|   C|     110|      2|  2|   200|  1.0| 14.0|     8|    -1|      25|    3|   1.0|0.75|34.384843|\n",
      "|Apple Cinnamon Ch...|  G|   C|     110|      2|  2|   180|  1.5| 10.5|    10|    70|      25|    1|   1.0|0.75|29.509541|\n",
      "|         Apple Jacks|  K|   C|     110|      2|  0|   125|  1.0| 11.0|    14|    30|      25|    2|   1.0| 1.0|33.174094|\n",
      "|             Basic 4|  G|   C|     130|      3|  2|   210|  2.0| 18.0|     8|   100|      25|    3|  1.33|0.75|37.038562|\n",
      "+--------------------+---+----+--------+-------+---+------+-----+-----+------+------+--------+-----+------+----+---------+\n",
      "only showing top 5 rows\n",
      "\n"
     ]
    }
   ],
   "execution_count": 18
  },
  {
   "metadata": {
    "ExecuteTime": {
     "end_time": "2025-02-16T13:28:49.037981Z",
     "start_time": "2025-02-16T13:28:48.932492Z"
    }
   },
   "cell_type": "code",
   "source": "dados.filter(dados.calories >= 100).show(5)",
   "id": "762b4635f873efa6",
   "outputs": [
    {
     "name": "stdout",
     "output_type": "stream",
     "text": [
      "+--------------------+---+----+--------+-------+---+------+-----+-----+------+------+--------+-----+------+----+---------+\n",
      "|                name|mfr|type|calories|protein|fat|sodium|fiber|carbo|sugars|potass|vitamins|shelf|weight|cups|   rating|\n",
      "+--------------------+---+----+--------+-------+---+------+-----+-----+------+------+--------+-----+------+----+---------+\n",
      "|   100% Natural Bran|  Q|   C|     120|      3|  5|    15|  2.0|  8.0|     8|   135|       0|    3|   1.0| 1.0|33.983679|\n",
      "|      Almond Delight|  R|   C|     110|      2|  2|   200|  1.0| 14.0|     8|    -1|      25|    3|   1.0|0.75|34.384843|\n",
      "|Apple Cinnamon Ch...|  G|   C|     110|      2|  2|   180|  1.5| 10.5|    10|    70|      25|    1|   1.0|0.75|29.509541|\n",
      "|         Apple Jacks|  K|   C|     110|      2|  0|   125|  1.0| 11.0|    14|    30|      25|    2|   1.0| 1.0|33.174094|\n",
      "|             Basic 4|  G|   C|     130|      3|  2|   210|  2.0| 18.0|     8|   100|      25|    3|  1.33|0.75|37.038562|\n",
      "+--------------------+---+----+--------+-------+---+------+-----+-----+------+------+--------+-----+------+----+---------+\n",
      "only showing top 5 rows\n",
      "\n"
     ]
    }
   ],
   "execution_count": 19
  },
  {
   "metadata": {},
   "cell_type": "markdown",
   "source": [
    "### isnull e isNotNull\n",
    "    Verificando valores nulos - isnull e isNotNull -> Funções"
   ],
   "id": "9dfc3a3a89224a22"
  },
  {
   "metadata": {
    "ExecuteTime": {
     "end_time": "2025-02-16T13:30:07.707366Z",
     "start_time": "2025-02-16T13:30:07.699219Z"
    }
   },
   "cell_type": "code",
   "source": "from pyspark.sql.functions import *",
   "id": "d231cb4fc075a7be",
   "outputs": [],
   "execution_count": 21
  },
  {
   "metadata": {
    "ExecuteTime": {
     "end_time": "2025-02-16T13:30:48.124686Z",
     "start_time": "2025-02-16T13:30:47.944742Z"
    }
   },
   "cell_type": "code",
   "source": "dados.filter(dados.name.isNotNull()).show()",
   "id": "7cb2198fe33ee202",
   "outputs": [
    {
     "name": "stdout",
     "output_type": "stream",
     "text": [
      "+--------------------+---+----+--------+-------+---+------+-----+-----+------+------+--------+-----+------+----+---------+\n",
      "|                name|mfr|type|calories|protein|fat|sodium|fiber|carbo|sugars|potass|vitamins|shelf|weight|cups|   rating|\n",
      "+--------------------+---+----+--------+-------+---+------+-----+-----+------+------+--------+-----+------+----+---------+\n",
      "|           100% Bran|  N|   C|      70|      4|  1|   130| 10.0|  5.0|     6|   280|      25|    3|   1.0|0.33|68.402973|\n",
      "|   100% Natural Bran|  Q|   C|     120|      3|  5|    15|  2.0|  8.0|     8|   135|       0|    3|   1.0| 1.0|33.983679|\n",
      "|            All-Bran|  K|   C|      70|      4|  1|   260|  9.0|  7.0|     5|   320|      25|    3|   1.0|0.33|59.425505|\n",
      "|All-Bran with Ext...|  K|   C|      50|      4|  0|   140| 14.0|  8.0|     0|   330|      25|    3|   1.0| 0.5|93.704912|\n",
      "|      Almond Delight|  R|   C|     110|      2|  2|   200|  1.0| 14.0|     8|    -1|      25|    3|   1.0|0.75|34.384843|\n",
      "|Apple Cinnamon Ch...|  G|   C|     110|      2|  2|   180|  1.5| 10.5|    10|    70|      25|    1|   1.0|0.75|29.509541|\n",
      "|         Apple Jacks|  K|   C|     110|      2|  0|   125|  1.0| 11.0|    14|    30|      25|    2|   1.0| 1.0|33.174094|\n",
      "|             Basic 4|  G|   C|     130|      3|  2|   210|  2.0| 18.0|     8|   100|      25|    3|  1.33|0.75|37.038562|\n",
      "|           Bran Chex|  R|   C|      90|      2|  1|   200|  4.0| 15.0|     6|   125|      25|    1|   1.0|0.67|49.120253|\n",
      "|         Bran Flakes|  P|   C|      90|      3|  0|   210|  5.0| 13.0|     5|   190|      25|    3|   1.0|0.67|53.313813|\n",
      "|        Cap'n'Crunch|  Q|   C|     120|      1|  2|   220|  0.0| 12.0|    12|    35|      25|    2|   1.0|0.75|18.042851|\n",
      "|            Cheerios|  G|   C|     110|      6|  2|   290|  2.0| 17.0|     1|   105|      25|    1|   1.0|1.25|50.764999|\n",
      "|Cinnamon Toast Cr...|  G|   C|     120|      1|  3|   210|  0.0| 13.0|     9|    45|      25|    2|   1.0|0.75|19.823573|\n",
      "|            Clusters|  G|   C|     110|      3|  2|   140|  2.0| 13.0|     7|   105|      25|    3|   1.0| 0.5|40.400208|\n",
      "|         Cocoa Puffs|  G|   C|     110|      1|  1|   180|  0.0| 12.0|    13|    55|      25|    2|   1.0| 1.0|22.736446|\n",
      "|           Corn Chex|  R|   C|     110|      2|  0|   280|  0.0| 22.0|     3|    25|      25|    1|   1.0| 1.0|41.445019|\n",
      "|         Corn Flakes|  K|   C|     100|      2|  0|   290|  1.0| 21.0|     2|    35|      25|    1|   1.0| 1.0|45.863324|\n",
      "|           Corn Pops|  K|   C|     110|      1|  0|    90|  1.0| 13.0|    12|    20|      25|    2|   1.0| 1.0|35.782791|\n",
      "|       Count Chocula|  G|   C|     110|      1|  1|   180|  0.0| 12.0|    13|    65|      25|    2|   1.0| 1.0|22.396513|\n",
      "|  Cracklin' Oat Bran|  K|   C|     110|      3|  3|   140|  4.0| 10.0|     7|   160|      25|    3|   1.0| 0.5|40.448772|\n",
      "+--------------------+---+----+--------+-------+---+------+-----+-----+------+------+--------+-----+------+----+---------+\n",
      "only showing top 20 rows\n",
      "\n"
     ]
    }
   ],
   "execution_count": 22
  },
  {
   "metadata": {
    "ExecuteTime": {
     "end_time": "2025-02-16T13:31:00.220899Z",
     "start_time": "2025-02-16T13:31:00.086886Z"
    }
   },
   "cell_type": "code",
   "source": "dados.filter(dados.name.isNull()).show()",
   "id": "1a3e053e9702bfca",
   "outputs": [
    {
     "name": "stdout",
     "output_type": "stream",
     "text": [
      "+----+---+----+--------+-------+---+------+-----+-----+------+------+--------+-----+------+----+------+\n",
      "|name|mfr|type|calories|protein|fat|sodium|fiber|carbo|sugars|potass|vitamins|shelf|weight|cups|rating|\n",
      "+----+---+----+--------+-------+---+------+-----+-----+------+------+--------+-----+------+----+------+\n",
      "+----+---+----+--------+-------+---+------+-----+-----+------+------+--------+-----+------+----+------+\n",
      "\n"
     ]
    }
   ],
   "execution_count": 23
  },
  {
   "metadata": {},
   "cell_type": "markdown",
   "source": [
    "### distinct\n",
    "    Verificando valores únicos - distinct -> Funções"
   ],
   "id": "8d6dcf3b39f3b1f"
  },
  {
   "metadata": {
    "ExecuteTime": {
     "end_time": "2025-02-16T13:31:44.052150Z",
     "start_time": "2025-02-16T13:31:43.196647Z"
    }
   },
   "cell_type": "code",
   "source": "dados.select('name').distinct().show()",
   "id": "cd58e1cfc130137f",
   "outputs": [
    {
     "name": "stdout",
     "output_type": "stream",
     "text": [
      "+--------------------+\n",
      "|                name|\n",
      "+--------------------+\n",
      "|           Bran Chex|\n",
      "|Multi-Grain Cheerios|\n",
      "|      Shredded Wheat|\n",
      "|       Count Chocula|\n",
      "|      Raisin Squares|\n",
      "|          Grape-Nuts|\n",
      "|          Honey-comb|\n",
      "|Shredded Wheat 'n...|\n",
      "|      Almond Delight|\n",
      "|                 Kix|\n",
      "|    Honey Graham Ohs|\n",
      "|         Froot Loops|\n",
      "|  Cracklin' Oat Bran|\n",
      "|                Life|\n",
      "|Shredded Wheat sp...|\n",
      "|        Cap'n'Crunch|\n",
      "|Apple Cinnamon Ch...|\n",
      "|           Corn Pops|\n",
      "|        Puffed Wheat|\n",
      "|Muesli Raisins; P...|\n",
      "+--------------------+\n",
      "only showing top 20 rows\n",
      "\n"
     ]
    }
   ],
   "execution_count": 24
  },
  {
   "metadata": {},
   "cell_type": "code",
   "outputs": [],
   "execution_count": null,
   "source": "",
   "id": "83c9fca2d42e2663"
  }
 ],
 "metadata": {
  "kernelspec": {
   "display_name": "Python 3",
   "language": "python",
   "name": "python3"
  },
  "language_info": {
   "codemirror_mode": {
    "name": "ipython",
    "version": 2
   },
   "file_extension": ".py",
   "mimetype": "text/x-python",
   "name": "python",
   "nbconvert_exporter": "python",
   "pygments_lexer": "ipython2",
   "version": "2.7.6"
  }
 },
 "nbformat": 4,
 "nbformat_minor": 5
}
